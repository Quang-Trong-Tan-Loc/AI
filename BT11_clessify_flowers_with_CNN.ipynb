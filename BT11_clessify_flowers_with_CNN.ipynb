{
  "nbformat": 4,
  "nbformat_minor": 0,
  "metadata": {
    "colab": {
      "provenance": [],
      "gpuType": "T4",
      "authorship_tag": "ABX9TyMOmd+S5BCqTvzupla5rqt9",
      "include_colab_link": true
    },
    "kernelspec": {
      "name": "python3",
      "display_name": "Python 3"
    },
    "language_info": {
      "name": "python"
    },
    "accelerator": "GPU",
    "gpuClass": "standard"
  },
  "cells": [
    {
      "cell_type": "markdown",
      "metadata": {
        "id": "view-in-github",
        "colab_type": "text"
      },
      "source": [
        "<a href=\"https://colab.research.google.com/github/Quang-Trong-Tan-Loc/AI/blob/main/BT11_clessify_flowers_with_CNN.ipynb\" target=\"_parent\"><img src=\"https://colab.research.google.com/assets/colab-badge.svg\" alt=\"Open In Colab\"/></a>"
      ]
    },
    {
      "cell_type": "code",
      "execution_count": 1,
      "metadata": {
        "colab": {
          "base_uri": "https://localhost:8080/"
        },
        "id": "mzuveqhOvYUP",
        "outputId": "2f617173-7471-4363-d268-add3f0410618"
      },
      "outputs": [
        {
          "output_type": "stream",
          "name": "stdout",
          "text": [
            "Drive already mounted at /content/drive; to attempt to forcibly remount, call drive.mount(\"/content/drive\", force_remount=True).\n"
          ]
        }
      ],
      "source": [
        "from google.colab import drive\n",
        "drive.mount('/content/drive')"
      ]
    },
    {
      "cell_type": "code",
      "source": [
        "from os import listdir\n",
        "from numpy import asarray\n",
        "from numpy import save\n",
        "import numpy as np\n",
        "import matplotlib.pyplot as plt\n",
        "from keras.utils import load_img, img_to_array\n",
        "from keras.utils import to_categorical"
      ],
      "metadata": {
        "id": "xvElQQMzvac_"
      },
      "execution_count": 2,
      "outputs": []
    },
    {
      "cell_type": "code",
      "source": [
        "folder = '/content/drive/MyDrive/Data_CNN/Train/flower'\n",
        "flower = ['daisy', 'iris', 'rose', 'tulip', 'water_lily']\n",
        "photos, lables = list(), list()\n",
        "for i in range (5):\n",
        "  filename = folder +'/'+ flower[i] + '/'\n",
        "  for file in listdir (filename):\n",
        "    photo = load_img (filename + file, target_size=(40,40))\n",
        "    photo = img_to_array(photo)\n",
        "    photos.append(photo)\n",
        "    lables.append(i)\n",
        "photos = asarray(photos)\n",
        "lables = asarray(lables)"
      ],
      "metadata": {
        "id": "VBA4XyFRve5E"
      },
      "execution_count": 3,
      "outputs": []
    },
    {
      "cell_type": "code",
      "source": [
        "print(photos.shape)\n",
        "print(lables.shape)"
      ],
      "metadata": {
        "colab": {
          "base_uri": "https://localhost:8080/"
        },
        "id": "tqSgnlFgxAKA",
        "outputId": "89ea4b85-ab3a-408d-cf28-629751d4a1ab"
      },
      "execution_count": 4,
      "outputs": [
        {
          "output_type": "stream",
          "name": "stdout",
          "text": [
            "(3553, 40, 40, 3)\n",
            "(3553,)\n"
          ]
        }
      ]
    },
    {
      "cell_type": "code",
      "source": [
        "from keras.utils import to_categorical\n",
        "y = to_categorical(lables)\n",
        "print(y.shape)"
      ],
      "metadata": {
        "colab": {
          "base_uri": "https://localhost:8080/"
        },
        "id": "Fc320Z8WxGsG",
        "outputId": "c96bf84b-ee78-4ed2-b0a8-bc6a37eee8cc"
      },
      "execution_count": 5,
      "outputs": [
        {
          "output_type": "stream",
          "name": "stdout",
          "text": [
            "(3553, 5)\n"
          ]
        }
      ]
    },
    {
      "cell_type": "code",
      "source": [
        "X = photos.astype('float32')/255"
      ],
      "metadata": {
        "id": "1f1ocnJ-xH-8"
      },
      "execution_count": 6,
      "outputs": []
    },
    {
      "cell_type": "code",
      "source": [
        "plt.imshow(X[500])\n",
        "print(y[500])"
      ],
      "metadata": {
        "colab": {
          "base_uri": "https://localhost:8080/",
          "height": 449
        },
        "id": "Uog_Vv5WxqiL",
        "outputId": "03624584-535e-4e22-cb0a-90bb83c05b7f"
      },
      "execution_count": 7,
      "outputs": [
        {
          "output_type": "stream",
          "name": "stdout",
          "text": [
            "[1. 0. 0. 0. 0.]\n"
          ]
        },
        {
          "output_type": "display_data",
          "data": {
            "text/plain": [
              "<Figure size 640x480 with 1 Axes>"
            ],
            "image/png": "[encoded data removed]"
          },
          "metadata": {}
        }
      ]
    },
    {
      "cell_type": "code",
      "source": [
        "from keras.models import Sequential, Model\n",
        "from keras.layers import Dense, Flatten, Dropout, Conv2D, MaxPooling2D, Normalization, Input\n",
        "from keras.optimizers import Adam #toc do hoc 0.01 with Adam\n",
        "from keras.losses import categorical_crossentropy"
      ],
      "metadata": {
        "id": "OfysFFZfxYJ2"
      },
      "execution_count": 8,
      "outputs": []
    },
    {
      "cell_type": "code",
      "source": [
        "batch_size = 64\n",
        "epochs = 10\n",
        "classes = 5"
      ],
      "metadata": {
        "id": "Cutxxyspxap-"
      },
      "execution_count": 9,
      "outputs": []
    },
    {
      "cell_type": "code",
      "source": [
        "model = Sequential()\n",
        "model.add(Conv2D(32, kernel_size =(3,3), activation= 'linear', input_shape= (40,40,3), padding = 'same'))\n",
        "from keras.layers import LeakyReLU\n",
        "model.add(LeakyReLU(alpha = 0.1))\n",
        "model.add(MaxPooling2D((2,2), padding = 'same'))\n",
        "model.add(Conv2D(64,(3,3), activation = 'linear', padding = 'same'))\n",
        "model.add(LeakyReLU(alpha = 0.1))\n",
        "model.add(MaxPooling2D((2,2), padding = 'same'))\n",
        "model.add(Conv2D(128,(3,3), activation = 'linear', padding = 'same'))\n",
        "model.add(LeakyReLU(alpha = 0.1))\n",
        "\n",
        "model.add(Flatten())\n",
        "#-----------------------------------------------------------------------------------------------------------\n",
        "model.add(Dense(128, activation = 'linear'))\n",
        "model.add(LeakyReLU(alpha = 0.1))\n",
        "model.add(Dense(classes, activation = 'softmax'))\n",
        "model.compile(loss = categorical_crossentropy, optimizer = Adam(), metrics = ['accuracy'] )\n",
        "\n",
        "model.summary()"
      ],
      "metadata": {
        "colab": {
          "base_uri": "https://localhost:8080/"
        },
        "id": "XIDy2O2VyUmk",
        "outputId": "a0e150a4-26ed-40fb-b4d2-6ee096555f61"
      },
      "execution_count": 12,
      "outputs": [
        {
          "output_type": "stream",
          "name": "stdout",
          "text": [
            "Model: \"sequential_1\"\n",
            "_________________________________________________________________\n",
            " Layer (type)                Output Shape              Param #   \n",
            "=================================================================\n",
            " conv2d_3 (Conv2D)           (None, 40, 40, 32)        896       \n",
            "                                                                 \n",
            " leaky_re_lu_4 (LeakyReLU)   (None, 40, 40, 32)        0         \n",
            "                                                                 \n",
            " max_pooling2d_2 (MaxPooling  (None, 20, 20, 32)       0         \n",
            " 2D)                                                             \n",
            "                                                                 \n",
            " conv2d_4 (Conv2D)           (None, 20, 20, 64)        18496     \n",
            "                                                                 \n",
            " leaky_re_lu_5 (LeakyReLU)   (None, 20, 20, 64)        0         \n",
            "                                                                 \n",
            " max_pooling2d_3 (MaxPooling  (None, 10, 10, 64)       0         \n",
            " 2D)                                                             \n",
            "                                                                 \n",
            " conv2d_5 (Conv2D)           (None, 10, 10, 128)       73856     \n",
            "                                                                 \n",
            " leaky_re_lu_6 (LeakyReLU)   (None, 10, 10, 128)       0         \n",
            "                                                                 \n",
            " flatten_1 (Flatten)         (None, 12800)             0         \n",
            "                                                                 \n",
            " dense_2 (Dense)             (None, 128)               1638528   \n",
            "                                                                 \n",
            " leaky_re_lu_7 (LeakyReLU)   (None, 128)               0         \n",
            "                                                                 \n",
            " dense_3 (Dense)             (None, 5)                 645       \n",
            "                                                                 \n",
            "=================================================================\n",
            "Total params: 1,732,421\n",
            "Trainable params: 1,732,421\n",
            "Non-trainable params: 0\n",
            "_________________________________________________________________\n"
          ]
        }
      ]
    },
    {
      "cell_type": "code",
      "source": [
        "train = model.fit(X, y, batch_size = batch_size, epochs = epochs, verbose = 1)"
      ],
      "metadata": {
        "colab": {
          "base_uri": "https://localhost:8080/"
        },
        "id": "QTrFTSUQyeFX",
        "outputId": "026409e5-dfa3-40d4-c4db-f54410813dd8"
      },
      "execution_count": 13,
      "outputs": [
        {
          "output_type": "stream",
          "name": "stdout",
          "text": [
            "Epoch 1/10\n",
            "56/56 [==============================] - 9s 10ms/step - loss: 1.1997 - accuracy: 0.5058\n",
            "Epoch 2/10\n",
            "56/56 [==============================] - 0s 6ms/step - loss: 0.8341 - accuracy: 0.6882\n",
            "Epoch 3/10\n",
            "56/56 [==============================] - 0s 7ms/step - loss: 0.7019 - accuracy: 0.7335\n",
            "Epoch 4/10\n",
            "56/56 [==============================] - 0s 7ms/step - loss: 0.5512 - accuracy: 0.8024\n",
            "Epoch 5/10\n",
            "56/56 [==============================] - 0s 7ms/step - loss: 0.4710 - accuracy: 0.8247\n",
            "Epoch 6/10\n",
            "56/56 [==============================] - 0s 8ms/step - loss: 0.3414 - accuracy: 0.8801\n",
            "Epoch 7/10\n",
            "56/56 [==============================] - 0s 8ms/step - loss: 0.2540 - accuracy: 0.9130\n",
            "Epoch 8/10\n",
            "56/56 [==============================] - 0s 8ms/step - loss: 0.1998 - accuracy: 0.9319\n",
            "Epoch 9/10\n",
            "56/56 [==============================] - 0s 8ms/step - loss: 0.1535 - accuracy: 0.9513\n",
            "Epoch 10/10\n",
            "56/56 [==============================] - 0s 8ms/step - loss: 0.1066 - accuracy: 0.9626\n"
          ]
        }
      ]
    },
    {
      "cell_type": "code",
      "source": [
        "folder = '/content/drive/MyDrive/Data_CNN/Test/flower'\n",
        "flower = ['daisy', 'iris', 'rose', 'tulip', 'water_lily']\n",
        "X_test, y_test = list(), list()\n",
        "for i in range (5):\n",
        "  filename = folder +'/'+ flower[i] + '/'\n",
        "  for file in listdir (filename):\n",
        "    photo = load_img (filename + file, target_size=(40,40))\n",
        "    photo = img_to_array(photo)\n",
        "    X_test.append(photo)\n",
        "    y_test.append(i)\n",
        "X_test = asarray(X_test)\n",
        "y_test = asarray(y_test)"
      ],
      "metadata": {
        "id": "R5LTlOuwFF1s"
      },
      "execution_count": 17,
      "outputs": []
    },
    {
      "cell_type": "code",
      "source": [
        "print(X_test.shape)\n",
        "print(y_test.shape)"
      ],
      "metadata": {
        "id": "7rn71gkCF-_G",
        "outputId": "6229525b-6f28-4d75-f552-2220fc10bb0b",
        "colab": {
          "base_uri": "https://localhost:8080/"
        }
      },
      "execution_count": 19,
      "outputs": [
        {
          "output_type": "stream",
          "name": "stdout",
          "text": [
            "(1000, 40, 40, 3)\n",
            "(1000,)\n"
          ]
        }
      ]
    },
    {
      "cell_type": "code",
      "source": [
        "from keras.utils import to_categorical\n",
        "y_test = to_categorical(y_test)\n",
        "X_test = X_test.astype('float32')/255"
      ],
      "metadata": {
        "id": "bKDfET5EGI2l"
      },
      "execution_count": 20,
      "outputs": []
    },
    {
      "cell_type": "code",
      "source": [
        "model.evaluate(X_test, y_test)"
      ],
      "metadata": {
        "colab": {
          "base_uri": "https://localhost:8080/"
        },
        "id": "ijpL8r_M0OgQ",
        "outputId": "eb5d48e8-7bfa-484f-bf3a-43f6ec91fde4"
      },
      "execution_count": 21,
      "outputs": [
        {
          "output_type": "stream",
          "name": "stdout",
          "text": [
            "32/32 [==============================] - 1s 7ms/step - loss: 0.5633 - accuracy: 0.8480\n"
          ]
        },
        {
          "output_type": "execute_result",
          "data": {
            "text/plain": [
              "[0.5632995367050171, 0.8479999899864197]"
            ]
          },
          "metadata": {},
          "execution_count": 21
        }
      ]
    },
    {
      "cell_type": "code",
      "source": [
        "n = 900\n",
        "plt.imshow(X_test[n])\n",
        "pred = model.predict(X_test[n].reshape((1,40,40,3)))\n",
        "print(flower[pred.argmax()])\n",
        "print(flower[y_test[n].argmax()])"
      ],
      "metadata": {
        "colab": {
          "base_uri": "https://localhost:8080/",
          "height": 486
        },
        "id": "GSaCADWV0eqv",
        "outputId": "2c3f2e13-e363-4273-a24d-b4b00eec3925"
      },
      "execution_count": 27,
      "outputs": [
        {
          "output_type": "stream",
          "name": "stdout",
          "text": [
            "1/1 [==============================] - 0s 20ms/step\n",
            "water_lily\n",
            "water_lily\n"
          ]
        },
        {
          "output_type": "display_data",
          "data": {
            "text/plain": [
              "<Figure size 640x480 with 1 Axes>"
            ],
            "image/png": "[encoded data removed]"
          },
          "metadata": {}
        }
      ]
    }
  ]
}