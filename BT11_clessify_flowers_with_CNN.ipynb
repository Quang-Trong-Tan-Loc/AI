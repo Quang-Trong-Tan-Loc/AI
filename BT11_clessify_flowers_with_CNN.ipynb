{
  "nbformat": 4,
  "nbformat_minor": 0,
  "metadata": {
    "colab": {
      "provenance": [],
      "gpuType": "T4",
      "authorship_tag": "ABX9TyMmaS0AABO/DL72Kwe2kzKV",
      "include_colab_link": true
    },
    "kernelspec": {
      "name": "python3",
      "display_name": "Python 3"
    },
    "language_info": {
      "name": "python"
    },
    "accelerator": "GPU",
    "gpuClass": "standard"
  },
  "cells": [
    {
      "cell_type": "markdown",
      "metadata": {
        "id": "view-in-github",
        "colab_type": "text"
      },
      "source": [
        "<a href=\"https://colab.research.google.com/github/Quang-Trong-Tan-Loc/AI/blob/main/BT11_clessify_flowers_with_CNN.ipynb\" target=\"_parent\"><img src=\"https://colab.research.google.com/assets/colab-badge.svg\" alt=\"Open In Colab\"/></a>"
      ]
    },
    {
      "cell_type": "code",
      "execution_count": 28,
      "metadata": {
        "colab": {
          "base_uri": "https://localhost:8080/"
        },
        "id": "mzuveqhOvYUP",
        "outputId": "654a293d-f2ee-487f-d6fb-af7cce30217e"
      },
      "outputs": [
        {
          "output_type": "stream",
          "name": "stdout",
          "text": [
            "Drive already mounted at /content/drive; to attempt to forcibly remount, call drive.mount(\"/content/drive\", force_remount=True).\n"
          ]
        }
      ],
      "source": [
        "from google.colab import drive\n",
        "drive.mount('/content/drive')"
      ]
    },
    {
      "cell_type": "code",
      "source": [
        "from os import listdir\n",
        "from numpy import asarray\n",
        "from numpy import save\n",
        "import numpy as np\n",
        "import matplotlib.pyplot as plt\n",
        "from keras.utils import load_img, img_to_array\n",
        "from keras.utils import to_categorical"
      ],
      "metadata": {
        "id": "xvElQQMzvac_"
      },
      "execution_count": 29,
      "outputs": []
    },
    {
      "cell_type": "code",
      "source": [
        "folder = '/content/drive/MyDrive/Data_CNN/Train/flower'\n",
        "flower = ['daisy', 'iris', 'rose', 'tulip', 'water_lily']\n",
        "photos, lables = list(), list()\n",
        "for i in range (5):\n",
        "  filename = folder +'/'+ flower[i] + '/'\n",
        "  for file in listdir (filename):\n",
        "    photo = load_img (filename + file, target_size=(40,40))\n",
        "    photo = img_to_array(photo)\n",
        "    photos.append(photo)\n",
        "    lables.append(i)\n",
        "photos = asarray(photos)\n",
        "lables = asarray(lables)"
      ],
      "metadata": {
        "id": "VBA4XyFRve5E"
      },
      "execution_count": 3,
      "outputs": []
    },
    {
      "cell_type": "code",
      "source": [
        "print(photos.shape)\n",
        "print(lables.shape)"
      ],
      "metadata": {
        "colab": {
          "base_uri": "https://localhost:8080/"
        },
        "id": "tqSgnlFgxAKA",
        "outputId": "1441d84a-3738-4644-9746-6db34f21a190"
      },
      "execution_count": 4,
      "outputs": [
        {
          "output_type": "stream",
          "name": "stdout",
          "text": [
            "(3538, 40, 40, 3)\n",
            "(3538,)\n"
          ]
        }
      ]
    },
    {
      "cell_type": "code",
      "source": [
        "from keras.utils import to_categorical\n",
        "y = to_categorical(lables)\n",
        "print(y.shape)"
      ],
      "metadata": {
        "colab": {
          "base_uri": "https://localhost:8080/"
        },
        "id": "Fc320Z8WxGsG",
        "outputId": "6234846d-80b0-4a27-93ae-d19fe99f1875"
      },
      "execution_count": 5,
      "outputs": [
        {
          "output_type": "stream",
          "name": "stdout",
          "text": [
            "(3538, 5)\n"
          ]
        }
      ]
    },
    {
      "cell_type": "code",
      "source": [
        "X = photos.astype('float32')/255"
      ],
      "metadata": {
        "id": "1f1ocnJ-xH-8"
      },
      "execution_count": 6,
      "outputs": []
    },
    {
      "cell_type": "code",
      "source": [
        "plt.imshow(X[500])\n",
        "print(y[500])"
      ],
      "metadata": {
        "colab": {
          "base_uri": "https://localhost:8080/",
          "height": 449
        },
        "id": "Uog_Vv5WxqiL",
        "outputId": "7e545031-83ce-4233-f34a-fd1a5d374db0"
      },
      "execution_count": 7,
      "outputs": [
        {
          "output_type": "stream",
          "name": "stdout",
          "text": [
            "[1. 0. 0. 0. 0.]\n"
          ]
        },
        {
          "output_type": "display_data",
          "data": {
            "text/plain": [
              "<Figure size 640x480 with 1 Axes>"
            ],
            "image/png": "[encoded data removed]"
          },
          "metadata": {}
        }
      ]
    },
    {
      "cell_type": "code",
      "source": [
        "from keras.models import Sequential, Model\n",
        "from keras.layers import Dense, Flatten, Dropout, Conv2D, MaxPooling2D, Normalization, Input\n",
        "from keras.optimizers import Adam #toc do hoc 0.01 with Adam\n",
        "from keras.losses import categorical_crossentropy"
      ],
      "metadata": {
        "id": "OfysFFZfxYJ2"
      },
      "execution_count": 8,
      "outputs": []
    },
    {
      "cell_type": "code",
      "source": [
        "batch_size = 64\n",
        "epochs = 20\n",
        "classes = 5"
      ],
      "metadata": {
        "id": "Cutxxyspxap-"
      },
      "execution_count": 11,
      "outputs": []
    },
    {
      "cell_type": "code",
      "source": [
        "model = Sequential()\n",
        "model.add(Conv2D(32, kernel_size =(3,3), activation= 'linear', input_shape= (40,40,3), padding = 'same'))\n",
        "from keras.layers import LeakyReLU\n",
        "model.add(LeakyReLU(alpha = 0.1))\n",
        "model.add(MaxPooling2D((2,2), padding = 'same'))\n",
        "model.add(Conv2D(64,(3,3), activation = 'linear', padding = 'same'))\n",
        "model.add(LeakyReLU(alpha = 0.1))\n",
        "model.add(MaxPooling2D((2,2), padding = 'same'))\n",
        "model.add(Conv2D(128,(3,3), activation = 'linear', padding = 'same'))\n",
        "model.add(LeakyReLU(alpha = 0.1))\n",
        "\n",
        "model.add(Flatten())\n",
        "#-----------------------------------------------------------------------------------------------------------\n",
        "model.add(Dense(128, activation = 'linear'))\n",
        "model.add(LeakyReLU(alpha = 0.1))\n",
        "model.add(Dense(classes, activation = 'softmax'))\n",
        "model.compile(loss = categorical_crossentropy, optimizer = Adam(), metrics = ['accuracy'] )\n",
        "\n",
        "model.summary()"
      ],
      "metadata": {
        "colab": {
          "base_uri": "https://localhost:8080/"
        },
        "id": "XIDy2O2VyUmk",
        "outputId": "08637a21-1972-4a4a-d976-f324730f7ca7"
      },
      "execution_count": 10,
      "outputs": [
        {
          "output_type": "stream",
          "name": "stdout",
          "text": [
            "Model: \"sequential\"\n",
            "_________________________________________________________________\n",
            " Layer (type)                Output Shape              Param #   \n",
            "=================================================================\n",
            " conv2d (Conv2D)             (None, 40, 40, 32)        896       \n",
            "                                                                 \n",
            " leaky_re_lu (LeakyReLU)     (None, 40, 40, 32)        0         \n",
            "                                                                 \n",
            " max_pooling2d (MaxPooling2D  (None, 20, 20, 32)       0         \n",
            " )                                                               \n",
            "                                                                 \n",
            " conv2d_1 (Conv2D)           (None, 20, 20, 64)        18496     \n",
            "                                                                 \n",
            " leaky_re_lu_1 (LeakyReLU)   (None, 20, 20, 64)        0         \n",
            "                                                                 \n",
            " max_pooling2d_1 (MaxPooling  (None, 10, 10, 64)       0         \n",
            " 2D)                                                             \n",
            "                                                                 \n",
            " conv2d_2 (Conv2D)           (None, 10, 10, 128)       73856     \n",
            "                                                                 \n",
            " leaky_re_lu_2 (LeakyReLU)   (None, 10, 10, 128)       0         \n",
            "                                                                 \n",
            " flatten (Flatten)           (None, 12800)             0         \n",
            "                                                                 \n",
            " dense (Dense)               (None, 128)               1638528   \n",
            "                                                                 \n",
            " leaky_re_lu_3 (LeakyReLU)   (None, 128)               0         \n",
            "                                                                 \n",
            " dense_1 (Dense)             (None, 5)                 645       \n",
            "                                                                 \n",
            "=================================================================\n",
            "Total params: 1,732,421\n",
            "Trainable params: 1,732,421\n",
            "Non-trainable params: 0\n",
            "_________________________________________________________________\n"
          ]
        }
      ]
    },
    {
      "cell_type": "code",
      "source": [
        "train = model.fit(X, y, batch_size = batch_size, epochs = epochs, verbose = 1)"
      ],
      "metadata": {
        "colab": {
          "base_uri": "https://localhost:8080/"
        },
        "id": "QTrFTSUQyeFX",
        "outputId": "ea189a4d-a163-4c02-ec5d-af466f1bbc69"
      },
      "execution_count": 26,
      "outputs": [
        {
          "output_type": "stream",
          "name": "stdout",
          "text": [
            "Epoch 1/20\n",
            "56/56 [==============================] - 16s 283ms/step - loss: 0.0103 - accuracy: 0.9989\n",
            "Epoch 2/20\n",
            "56/56 [==============================] - 17s 302ms/step - loss: 0.0055 - accuracy: 0.9992\n",
            "Epoch 3/20\n",
            "56/56 [==============================] - 16s 288ms/step - loss: 0.0055 - accuracy: 0.9989\n",
            "Epoch 4/20\n",
            "56/56 [==============================] - 16s 279ms/step - loss: 9.6409e-04 - accuracy: 1.0000\n",
            "Epoch 5/20\n",
            "56/56 [==============================] - 16s 279ms/step - loss: 4.9571e-04 - accuracy: 1.0000\n",
            "Epoch 6/20\n",
            "56/56 [==============================] - 16s 295ms/step - loss: 3.4947e-04 - accuracy: 1.0000\n",
            "Epoch 7/20\n",
            "56/56 [==============================] - 16s 279ms/step - loss: 2.9452e-04 - accuracy: 1.0000\n",
            "Epoch 8/20\n",
            "56/56 [==============================] - 16s 279ms/step - loss: 2.5254e-04 - accuracy: 1.0000\n",
            "Epoch 9/20\n",
            "56/56 [==============================] - 16s 282ms/step - loss: 2.2083e-04 - accuracy: 1.0000\n",
            "Epoch 10/20\n",
            "56/56 [==============================] - 16s 289ms/step - loss: 1.9520e-04 - accuracy: 1.0000\n",
            "Epoch 11/20\n",
            "56/56 [==============================] - 19s 336ms/step - loss: 1.7607e-04 - accuracy: 1.0000\n",
            "Epoch 12/20\n",
            "56/56 [==============================] - 16s 281ms/step - loss: 1.5864e-04 - accuracy: 1.0000\n",
            "Epoch 13/20\n",
            "56/56 [==============================] - 16s 278ms/step - loss: 1.4336e-04 - accuracy: 1.0000\n",
            "Epoch 14/20\n",
            "56/56 [==============================] - 16s 279ms/step - loss: 1.3180e-04 - accuracy: 1.0000\n",
            "Epoch 15/20\n",
            "56/56 [==============================] - 16s 281ms/step - loss: 1.2074e-04 - accuracy: 1.0000\n",
            "Epoch 16/20\n",
            "56/56 [==============================] - 16s 277ms/step - loss: 1.1177e-04 - accuracy: 1.0000\n",
            "Epoch 17/20\n",
            "56/56 [==============================] - 16s 281ms/step - loss: 1.0351e-04 - accuracy: 1.0000\n",
            "Epoch 18/20\n",
            "56/56 [==============================] - 16s 282ms/step - loss: 9.6125e-05 - accuracy: 1.0000\n",
            "Epoch 19/20\n",
            "56/56 [==============================] - 16s 283ms/step - loss: 8.9440e-05 - accuracy: 1.0000\n",
            "Epoch 20/20\n",
            "56/56 [==============================] - 16s 287ms/step - loss: 8.3698e-05 - accuracy: 1.0000\n"
          ]
        }
      ]
    },
    {
      "cell_type": "code",
      "source": [
        "folder = '/content/drive/MyDrive/Data_CNN/Test/flower'\n",
        "flower = ['daisy', 'iris', 'rose', 'tulip', 'water_lily']\n",
        "X_test, y_test = list(), list()\n",
        "for i in range (5):\n",
        "  filename = folder +'/'+ flower[i] + '/'\n",
        "  for file in listdir (filename):\n",
        "    photo = load_img (filename + file, target_size=(40,40))\n",
        "    photo = img_to_array(photo)\n",
        "    X_test.append(photo)\n",
        "    y_test.append(i)\n",
        "X_test = asarray(X_test)\n",
        "y_test = asarray(y_test)"
      ],
      "metadata": {
        "id": "R5LTlOuwFF1s"
      },
      "execution_count": 13,
      "outputs": []
    },
    {
      "cell_type": "code",
      "source": [
        "print(X_test.shape)\n",
        "print(y_test.shape)"
      ],
      "metadata": {
        "id": "7rn71gkCF-_G",
        "outputId": "aa41881f-d7bd-4e24-9104-70cfbc5f78ab",
        "colab": {
          "base_uri": "https://localhost:8080/"
        }
      },
      "execution_count": 14,
      "outputs": [
        {
          "output_type": "stream",
          "name": "stdout",
          "text": [
            "(1000, 40, 40, 3)\n",
            "(1000,)\n"
          ]
        }
      ]
    },
    {
      "cell_type": "code",
      "source": [
        "from keras.utils import to_categorical\n",
        "y_test = to_categorical(y_test)\n",
        "X_test = X_test.astype('float32')/255"
      ],
      "metadata": {
        "id": "bKDfET5EGI2l"
      },
      "execution_count": 15,
      "outputs": []
    },
    {
      "cell_type": "code",
      "source": [
        "model.evaluate(X_test, y_test)"
      ],
      "metadata": {
        "colab": {
          "base_uri": "https://localhost:8080/"
        },
        "id": "ijpL8r_M0OgQ",
        "outputId": "af6da119-32ed-4ec6-c46a-db2cbbb4ab8e"
      },
      "execution_count": 30,
      "outputs": [
        {
          "output_type": "stream",
          "name": "stdout",
          "text": [
            "32/32 [==============================] - 2s 57ms/step - loss: 1.0708 - accuracy: 0.8490\n"
          ]
        },
        {
          "output_type": "execute_result",
          "data": {
            "text/plain": [
              "[1.0708110332489014, 0.8489999771118164]"
            ]
          },
          "metadata": {},
          "execution_count": 30
        }
      ]
    },
    {
      "cell_type": "code",
      "source": [
        "n = 504\n",
        "plt.imshow(X_test[n])\n",
        "pred = model.predict(X_test[n].reshape((1,40,40,3)))\n",
        "print(flower[pred.argmax()])\n",
        "print(flower[y_test[n].argmax()])"
      ],
      "metadata": {
        "colab": {
          "base_uri": "https://localhost:8080/",
          "height": 486
        },
        "id": "GSaCADWV0eqv",
        "outputId": "7bb0fbea-3258-4f92-834e-8bf32c18d59d"
      },
      "execution_count": 25,
      "outputs": [
        {
          "output_type": "stream",
          "name": "stdout",
          "text": [
            "1/1 [==============================] - 0s 65ms/step\n",
            "rose\n",
            "rose\n"
          ]
        },
        {
          "output_type": "display_data",
          "data": {
            "text/plain": [
              "<Figure size 640x480 with 1 Axes>"
            ],
            "image/png": "[encoded data removed]"
          },
          "metadata": {}
        }
      ]
    }
  ]
}