{
  "nbformat": 4,
  "nbformat_minor": 0,
  "metadata": {
    "colab": {
      "provenance": [],
      "mount_file_id": "1MoDtWJd_NjAS2Bm6KZapCsuE4TCzj5BL",
      "authorship_tag": "ABX9TyOneNY5H/76B31619wwVdoG",
      "include_colab_link": true
    },
    "kernelspec": {
      "name": "python3",
      "display_name": "Python 3"
    },
    "language_info": {
      "name": "python"
    }
  },
  "cells": [
    {
      "cell_type": "markdown",
      "metadata": {
        "id": "view-in-github",
        "colab_type": "text"
      },
      "source": [
        "<a href=\"https://colab.research.google.com/github/Quang-Trong-Tan-Loc/AI/blob/main/BT11_face.ipynb\" target=\"_parent\"><img src=\"https://colab.research.google.com/assets/colab-badge.svg\" alt=\"Open In Colab\"/></a>"
      ]
    },
    {
      "cell_type": "code",
      "execution_count": 1,
      "metadata": {
        "colab": {
          "base_uri": "https://localhost:8080/"
        },
        "id": "MSIFABenHntw",
        "outputId": "7a797e7b-2269-4ad2-9a63-1b7946a061f1"
      },
      "outputs": [
        {
          "output_type": "stream",
          "name": "stdout",
          "text": [
            "Mounted at /content/drive\n"
          ]
        }
      ],
      "source": [
        "from google.colab import drive\n",
        "drive.mount('/content/drive')"
      ]
    },
    {
      "cell_type": "code",
      "source": [
        "from os import listdir\n",
        "from numpy import asarray\n",
        "from numpy import save\n",
        "from tensorflow.keras.preprocessing.image import load_img, img_to_array"
      ],
      "metadata": {
        "id": "RTaJbimzHpyv"
      },
      "execution_count": 7,
      "outputs": []
    },
    {
      "cell_type": "code",
      "source": [
        "folder = '/content/drive/MyDrive/AnhAI/'\n",
        "photos, lables = list(), list()\n",
        "for file in listdir (folder):\n",
        "  output = 0.0\n",
        "  if file.startswith('L '):\n",
        "    output = 1.0\n",
        "  if file.startswith('V '):\n",
        "    output = 2.0\n",
        "  photo = load_img (folder + file, target_size=(200,200))\n",
        "  photo = img_to_array(photo)\n",
        "  photos.append(photo)\n",
        "  lables.append(output)\n",
        "photos = asarray(photos)\n",
        "lable = asarray(lables)\n",
        "save('L_V_photo.npy',photos)\n",
        "save('L_V_photo.npy', lables)"
      ],
      "metadata": {
        "id": "UpXTpEd2KHhT"
      },
      "execution_count": 10,
      "outputs": []
    }
  ]
}
