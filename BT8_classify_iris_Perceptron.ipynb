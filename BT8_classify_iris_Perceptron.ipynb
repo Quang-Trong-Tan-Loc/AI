{
  "nbformat": 4,
  "nbformat_minor": 0,
  "metadata": {
    "colab": {
      "provenance": [],
      "authorship_tag": "ABX9TyOodEmfI51oO/bFOG1MimVO",
      "include_colab_link": true
    },
    "kernelspec": {
      "name": "python3",
      "display_name": "Python 3"
    },
    "language_info": {
      "name": "python"
    }
  },
  "cells": [
    {
      "cell_type": "markdown",
      "metadata": {
        "id": "view-in-github",
        "colab_type": "text"
      },
      "source": [
        "<a href=\"https://colab.research.google.com/github/Quang-Trong-Tan-Loc/AI/blob/main/BT8_iris.ipynb\" target=\"_parent\"><img src=\"https://colab.research.google.com/assets/colab-badge.svg\" alt=\"Open In Colab\"/></a>"
      ]
    },
    {
      "cell_type": "code",
      "execution_count": null,
      "metadata": {
        "colab": {
          "base_uri": "https://localhost:8080/"
        },
        "id": "k0Yt10u9Nayh",
        "outputId": "4e72c23b-45b5-41de-cb2c-aa468c8a7f70"
      },
      "outputs": [
        {
          "output_type": "stream",
          "name": "stdout",
          "text": [
            "Mounted at /content/drive\n"
          ]
        }
      ],
      "source": [
        "from google.colab import drive\n",
        "drive.mount('/content/drive')"
      ]
    },
    {
      "cell_type": "code",
      "source": [
        "from sklearn import datasets\n",
        "from sklearn.linear_model import Perceptron\n",
        "#thu vien ho tro chia du lieu\n",
        "from sklearn.model_selection import train_test_split\n",
        "#do do chinh xac\n",
        "from sklearn.metrics import accuracy_score\n",
        "#chuan hoa du lieu\n",
        "from sklearn.preprocessing import StandardScaler\n",
        "\n"
      ],
      "metadata": {
        "id": "cvyDV6ZZxg5E"
      },
      "execution_count": null,
      "outputs": []
    },
    {
      "cell_type": "code",
      "source": [
        "iris= datasets.load_iris()"
      ],
      "metadata": {
        "id": "sHD4ObGBz_6U"
      },
      "execution_count": null,
      "outputs": []
    },
    {
      "cell_type": "code",
      "source": [
        "X = iris.data\n",
        "y = iris.target\n",
        "print(X[:5])\n",
        "print(y[:5])"
      ],
      "metadata": {
        "colab": {
          "base_uri": "https://localhost:8080/"
        },
        "id": "BrVLXdwJ4qQz",
        "outputId": "1e23d15d-289d-41de-90fb-86787546332e"
      },
      "execution_count": null,
      "outputs": [
        {
          "output_type": "stream",
          "name": "stdout",
          "text": [
            "[[5.1 3.5 1.4 0.2]\n",
            " [4.9 3.  1.4 0.2]\n",
            " [4.7 3.2 1.3 0.2]\n",
            " [4.6 3.1 1.5 0.2]\n",
            " [5.  3.6 1.4 0.2]]\n",
            "[0 0 0 0 0]\n"
          ]
        }
      ]
    },
    {
      "cell_type": "code",
      "source": [
        "X_train, X_test, y_train, y_test = train_test_split(X, y, test_size=0.3)\n",
        "sc = StandardScaler()\n",
        "sc.fit(X_train)\n",
        "X_train_std = sc.transform(X_train)\n",
        "X_test_std = sc.transform(X_test)\n",
        "print(X_train[:5])\n",
        "print(y_train[:5])"
      ],
      "metadata": {
        "colab": {
          "base_uri": "https://localhost:8080/"
        },
        "id": "d47XdfeB3N-k",
        "outputId": "35b062fe-7f4e-4eaf-e24d-2a0334a11711"
      },
      "execution_count": null,
      "outputs": [
        {
          "output_type": "stream",
          "name": "stdout",
          "text": [
            "[[6.3 2.3 4.4 1.3]\n",
            " [4.6 3.6 1.  0.2]\n",
            " [7.7 2.8 6.7 2. ]\n",
            " [6.1 2.8 4.  1.3]\n",
            " [5.5 2.4 3.8 1.1]]\n",
            "[1 0 2 1 1]\n"
          ]
        }
      ]
    },
    {
      "cell_type": "code",
      "source": [
        "#max_iter: so lan hoc, eta: toc do hoc (so duong nho hon 1), random_state = 0: trang thai lay gia tri ngau nhien\n",
        "model=Perceptron(max_iter = 1000, eta0 = 0.05, random_state = 0)\n",
        "model.fit(X_train_std,y_train)\n",
        "y_pred = model.predict(X_test_std)\n",
        "y_pred1 = model.predict(X_train_std)\n",
        "print(y_pred)\n",
        "print(y_test)\n",
        "print(\"y test\",accuracy_score(y_test, y_pred))\n",
        "print(\"y train\",accuracy_score(y_train, y_pred1))\n"
      ],
      "metadata": {
        "colab": {
          "base_uri": "https://localhost:8080/"
        },
        "id": "GRcGhHSE5cQa",
        "outputId": "32024527-9fac-4b1a-cf6c-df857aad15a1"
      },
      "execution_count": null,
      "outputs": [
        {
          "output_type": "stream",
          "name": "stdout",
          "text": [
            "[0 1 2 1 0 0 0 2 0 1 2 1 0 0 0 0 2 2 0 2 1 0 0 2 2 2 0 0 2 2 1 1 2 1 0 1 2\n",
            " 2 1 2 2 1 2 2 1]\n",
            "[0 1 2 1 0 0 0 2 0 1 2 1 0 0 0 0 2 2 0 2 1 0 0 2 2 2 0 0 2 1 1 1 1 1 0 1 2\n",
            " 2 1 2 2 1 2 2 1]\n",
            "y test 0.9555555555555556\n",
            "y train 0.9333333333333333\n"
          ]
        }
      ]
    }
  ]
}
