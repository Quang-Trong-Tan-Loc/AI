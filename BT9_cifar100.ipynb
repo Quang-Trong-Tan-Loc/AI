{
  "nbformat": 4,
  "nbformat_minor": 0,
  "metadata": {
    "colab": {
      "provenance": [],
      "authorship_tag": "ABX9TyOk0Qf/BAW3Ip5DbL3CDtuy",
      "include_colab_link": true
    },
    "kernelspec": {
      "name": "python3",
      "display_name": "Python 3"
    },
    "language_info": {
      "name": "python"
    }
  },
  "cells": [
    {
      "cell_type": "markdown",
      "metadata": {
        "id": "view-in-github",
        "colab_type": "text"
      },
      "source": [
        "<a href=\"https://colab.research.google.com/github/Quang-Trong-Tan-Loc/AI/blob/main/BT9_cifar100.ipynb\" target=\"_parent\"><img src=\"https://colab.research.google.com/assets/colab-badge.svg\" alt=\"Open In Colab\"/></a>"
      ]
    },
    {
      "cell_type": "code",
      "execution_count": null,
      "metadata": {
        "colab": {
          "base_uri": "https://localhost:8080/"
        },
        "id": "xEX5qYssYAfH",
        "outputId": "da1b46db-0133-406e-8d9a-064c178b743a"
      },
      "outputs": [
        {
          "output_type": "stream",
          "name": "stdout",
          "text": [
            "Mounted at /content/drive\n"
          ]
        }
      ],
      "source": [
        "from google.colab import drive\n",
        "drive.mount('/content/drive')"
      ]
    },
    {
      "cell_type": "code",
      "source": [
        "from keras.datasets import cifar100\n",
        "(train_images, train_lables),(test_images, test_lables) = cifar100.load_data()"
      ],
      "metadata": {
        "id": "7kDSJX4bYWW7"
      },
      "execution_count": null,
      "outputs": []
    },
    {
      "cell_type": "code",
      "source": [
        "print(train_images.shape)\n",
        "print(test_images.shape)\n",
        "print(train_lables.shape)\n",
        "print(test_lables.shape)"
      ],
      "metadata": {
        "colab": {
          "base_uri": "https://localhost:8080/"
        },
        "id": "aqYx5AYxYoRi",
        "outputId": "5930a3c2-1128-4237-f497-a5dab4a9c825"
      },
      "execution_count": null,
      "outputs": [
        {
          "output_type": "stream",
          "name": "stdout",
          "text": [
            "(50000, 32, 32, 3)\n",
            "(10000, 32, 32, 3)\n",
            "(50000, 1)\n",
            "(10000, 1)\n"
          ]
        }
      ]
    },
    {
      "cell_type": "code",
      "source": [
        "print(train_images[0])\n",
        "print(train_lables[:10])"
      ],
      "metadata": {
        "colab": {
          "base_uri": "https://localhost:8080/"
        },
        "id": "blfkP_lTZH_0",
        "outputId": "f5a9ffad-7056-4f9a-893a-b356dee9979a"
      },
      "execution_count": null,
      "outputs": [
        {
          "output_type": "stream",
          "name": "stdout",
          "text": [
            "[[[255 255 255]\n",
            "  [255 255 255]\n",
            "  [255 255 255]\n",
            "  ...\n",
            "  [195 205 193]\n",
            "  [212 224 204]\n",
            "  [182 194 167]]\n",
            "\n",
            " [[255 255 255]\n",
            "  [254 254 254]\n",
            "  [254 254 254]\n",
            "  ...\n",
            "  [170 176 150]\n",
            "  [161 168 130]\n",
            "  [146 154 113]]\n",
            "\n",
            " [[255 255 255]\n",
            "  [254 254 254]\n",
            "  [255 255 255]\n",
            "  ...\n",
            "  [189 199 169]\n",
            "  [166 178 130]\n",
            "  [121 133  87]]\n",
            "\n",
            " ...\n",
            "\n",
            " [[148 185  79]\n",
            "  [142 182  57]\n",
            "  [140 179  60]\n",
            "  ...\n",
            "  [ 30  17   1]\n",
            "  [ 65  62  15]\n",
            "  [ 76  77  20]]\n",
            "\n",
            " [[122 157  66]\n",
            "  [120 155  58]\n",
            "  [126 160  71]\n",
            "  ...\n",
            "  [ 22  16   3]\n",
            "  [ 97 112  56]\n",
            "  [141 161  87]]\n",
            "\n",
            " [[ 87 122  41]\n",
            "  [ 88 122  39]\n",
            "  [101 134  56]\n",
            "  ...\n",
            "  [ 34  36  10]\n",
            "  [105 133  59]\n",
            "  [138 173  79]]]\n",
            "[[19]\n",
            " [29]\n",
            " [ 0]\n",
            " [11]\n",
            " [ 1]\n",
            " [86]\n",
            " [90]\n",
            " [28]\n",
            " [23]\n",
            " [31]]\n"
          ]
        }
      ]
    },
    {
      "cell_type": "code",
      "source": [
        "import matplotlib.pyplot as plt\n",
        "hinh = train_images[100]\n",
        "plt.imshow(hinh,cmap = 'gray')\n",
        "plt.show()"
      ],
      "metadata": {
        "colab": {
          "base_uri": "https://localhost:8080/",
          "height": 430
        },
        "id": "MdMoVgYEYxWr",
        "outputId": "160e3600-e9f9-48c2-f648-dbd1eaebc118"
      },
      "execution_count": null,
      "outputs": [
        {
          "output_type": "display_data",
          "data": {
            "text/plain": [
              "<Figure size 640x480 with 1 Axes>"
            ],
            "image/png": "[encoded data removed]"
          },
          "metadata": {}
        }
      ]
    },
    {
      "cell_type": "code",
      "source": [
        "from tensorflow.python import summary\n",
        "from keras.models import Sequential\n",
        "from keras.layers import Dense\n",
        "model = Sequential()\n",
        "model.add(Dense(1024, input_shape = (32*32*3,), activation = 'relu'))\n",
        "model.add(Dense(512, activation = 'relu'))\n",
        "model.add(Dense(256, activation = 'relu'))\n",
        "model.add(Dense(128, activation = 'relu'))\n",
        "model.add(Dense(100, activation = 'softmax'))\n",
        "model.summary()"
      ],
      "metadata": {
        "colab": {
          "base_uri": "https://localhost:8080/"
        },
        "id": "R6lxEpRVZ3un",
        "outputId": "8afb4fe2-95dd-4f8d-a6ab-97b4052e92d9"
      },
      "execution_count": null,
      "outputs": [
        {
          "output_type": "stream",
          "name": "stdout",
          "text": [
            "Model: \"sequential_2\"\n",
            "_________________________________________________________________\n",
            " Layer (type)                Output Shape              Param #   \n",
            "=================================================================\n",
            " dense_10 (Dense)            (None, 1024)              3146752   \n",
            "                                                                 \n",
            " dense_11 (Dense)            (None, 512)               524800    \n",
            "                                                                 \n",
            " dense_12 (Dense)            (None, 256)               131328    \n",
            "                                                                 \n",
            " dense_13 (Dense)            (None, 128)               32896     \n",
            "                                                                 \n",
            " dense_14 (Dense)            (None, 100)               12900     \n",
            "                                                                 \n",
            "=================================================================\n",
            "Total params: 3,848,676\n",
            "Trainable params: 3,848,676\n",
            "Non-trainable params: 0\n",
            "_________________________________________________________________\n"
          ]
        }
      ]
    },
    {
      "cell_type": "code",
      "source": [
        "train_images = train_images.reshape((50000, 32*32*3))\n",
        "train_images = train_images.astype('float32')/255\n",
        "\n",
        "test_images = test_images.reshape((10000, 32*32*3))\n",
        "test_images = test_images.astype('float32')/255\n",
        "test_images.shape"
      ],
      "metadata": {
        "colab": {
          "base_uri": "https://localhost:8080/"
        },
        "id": "-SkY_kQkZ98J",
        "outputId": "247e38d2-9db1-4ab6-ca59-758bd1efc4b2"
      },
      "execution_count": null,
      "outputs": [
        {
          "output_type": "execute_result",
          "data": {
            "text/plain": [
              "(10000, 3072)"
            ]
          },
          "metadata": {},
          "execution_count": 22
        }
      ]
    },
    {
      "cell_type": "code",
      "source": [
        "from keras.utils import to_categorical\n",
        "train_lables = to_categorical(train_lables, 100)\n",
        "test_lables = to_categorical(test_lables, 100)"
      ],
      "metadata": {
        "id": "kEcfIYZPaEPX"
      },
      "execution_count": null,
      "outputs": []
    },
    {
      "cell_type": "code",
      "source": [
        "model.compile(optimizer='rmsprop', loss= 'categorical_crossentropy', metrics= ['accuracy'])\n",
        "model.fit(train_images, train_lables, epochs = 50, batch_size = 128)\n",
        "test_loss, test_acc = model.evaluate(test_images, test_lables)\n",
        "print(test_acc)\n",
        "print(test_loss)"
      ],
      "metadata": {
        "colab": {
          "base_uri": "https://localhost:8080/"
        },
        "id": "3oEhTz_eaJ1c",
        "outputId": "798792d9-10cf-4d8f-84d7-003f2bb8376b"
      },
      "execution_count": null,
      "outputs": [
        {
          "output_type": "stream",
          "name": "stdout",
          "text": [
            "Epoch 1/50\n",
            "391/391 [==============================] - 32s 81ms/step - loss: 3.0683 - accuracy: 0.2460\n",
            "Epoch 2/50\n",
            "391/391 [==============================] - 32s 82ms/step - loss: 2.9910 - accuracy: 0.2600\n",
            "Epoch 3/50\n",
            "391/391 [==============================] - 32s 81ms/step - loss: 2.9299 - accuracy: 0.2699\n",
            "Epoch 4/50\n",
            "391/391 [==============================] - 34s 86ms/step - loss: 2.8702 - accuracy: 0.2824\n",
            "Epoch 5/50\n",
            "391/391 [==============================] - 34s 87ms/step - loss: 2.8107 - accuracy: 0.2926\n",
            "Epoch 6/50\n",
            "391/391 [==============================] - 31s 81ms/step - loss: 2.7513 - accuracy: 0.3060\n",
            "Epoch 7/50\n",
            "391/391 [==============================] - 32s 82ms/step - loss: 2.6961 - accuracy: 0.3170\n",
            "Epoch 8/50\n",
            "391/391 [==============================] - 31s 80ms/step - loss: 2.6361 - accuracy: 0.3302\n",
            "Epoch 9/50\n",
            "391/391 [==============================] - 31s 81ms/step - loss: 2.5834 - accuracy: 0.3402\n",
            "Epoch 10/50\n",
            "391/391 [==============================] - 33s 84ms/step - loss: 2.5220 - accuracy: 0.3506\n",
            "Epoch 11/50\n",
            "391/391 [==============================] - 32s 82ms/step - loss: 2.4633 - accuracy: 0.3667\n",
            "Epoch 12/50\n",
            "391/391 [==============================] - 31s 80ms/step - loss: 2.4106 - accuracy: 0.3766\n",
            "Epoch 13/50\n",
            "391/391 [==============================] - 33s 85ms/step - loss: 2.3611 - accuracy: 0.3853\n",
            "Epoch 14/50\n",
            "391/391 [==============================] - 31s 80ms/step - loss: 2.2960 - accuracy: 0.4017\n",
            "Epoch 15/50\n",
            "391/391 [==============================] - 31s 80ms/step - loss: 2.2485 - accuracy: 0.4122\n",
            "Epoch 16/50\n",
            "391/391 [==============================] - 32s 83ms/step - loss: 2.2047 - accuracy: 0.4236\n",
            "Epoch 17/50\n",
            "391/391 [==============================] - 32s 82ms/step - loss: 2.1600 - accuracy: 0.4305\n",
            "Epoch 18/50\n",
            "391/391 [==============================] - 31s 81ms/step - loss: 2.1076 - accuracy: 0.4420\n",
            "Epoch 19/50\n",
            "391/391 [==============================] - 31s 80ms/step - loss: 2.0692 - accuracy: 0.4523\n",
            "Epoch 20/50\n",
            "391/391 [==============================] - 31s 80ms/step - loss: 2.0304 - accuracy: 0.4613\n",
            "Epoch 21/50\n",
            "391/391 [==============================] - 33s 85ms/step - loss: 1.9957 - accuracy: 0.4697\n",
            "Epoch 22/50\n",
            "391/391 [==============================] - 32s 82ms/step - loss: 1.9589 - accuracy: 0.4779\n",
            "Epoch 23/50\n",
            "391/391 [==============================] - 31s 80ms/step - loss: 1.9195 - accuracy: 0.4900\n",
            "Epoch 24/50\n",
            "391/391 [==============================] - 31s 80ms/step - loss: 1.8771 - accuracy: 0.4988\n",
            "Epoch 25/50\n",
            "391/391 [==============================] - 31s 80ms/step - loss: 1.8512 - accuracy: 0.5063\n",
            "Epoch 26/50\n",
            "391/391 [==============================] - 31s 80ms/step - loss: 1.8206 - accuracy: 0.5128\n",
            "Epoch 27/50\n",
            "391/391 [==============================] - 31s 80ms/step - loss: 1.7911 - accuracy: 0.5191\n",
            "Epoch 28/50\n",
            "391/391 [==============================] - 31s 80ms/step - loss: 1.7721 - accuracy: 0.5248\n",
            "Epoch 29/50\n",
            "391/391 [==============================] - 33s 84ms/step - loss: 1.7437 - accuracy: 0.5329\n",
            "Epoch 30/50\n",
            "391/391 [==============================] - 34s 87ms/step - loss: 1.7150 - accuracy: 0.5380\n",
            "Epoch 31/50\n",
            "391/391 [==============================] - 31s 80ms/step - loss: 1.6857 - accuracy: 0.5472\n",
            "Epoch 32/50\n",
            "391/391 [==============================] - 31s 80ms/step - loss: 1.6655 - accuracy: 0.5522\n",
            "Epoch 33/50\n",
            "391/391 [==============================] - 31s 80ms/step - loss: 1.6575 - accuracy: 0.5527\n",
            "Epoch 34/50\n",
            "391/391 [==============================] - 32s 82ms/step - loss: 1.6305 - accuracy: 0.5604\n",
            "Epoch 35/50\n",
            "391/391 [==============================] - 32s 83ms/step - loss: 1.6135 - accuracy: 0.5675\n",
            "Epoch 36/50\n",
            "391/391 [==============================] - 31s 80ms/step - loss: 1.6000 - accuracy: 0.5697\n",
            "Epoch 37/50\n",
            "391/391 [==============================] - 31s 80ms/step - loss: 1.5937 - accuracy: 0.5711\n",
            "Epoch 38/50\n",
            "391/391 [==============================] - 33s 84ms/step - loss: 1.5770 - accuracy: 0.5770\n",
            "Epoch 39/50\n",
            "391/391 [==============================] - 31s 80ms/step - loss: 1.5477 - accuracy: 0.5823\n",
            "Epoch 40/50\n",
            "391/391 [==============================] - 32s 82ms/step - loss: 1.5423 - accuracy: 0.5873\n",
            "Epoch 41/50\n",
            "391/391 [==============================] - 32s 82ms/step - loss: 1.5417 - accuracy: 0.5892\n",
            "Epoch 42/50\n",
            "391/391 [==============================] - 31s 80ms/step - loss: 1.5255 - accuracy: 0.5929\n",
            "Epoch 43/50\n",
            "391/391 [==============================] - 31s 80ms/step - loss: 1.5211 - accuracy: 0.5931\n",
            "Epoch 44/50\n",
            "391/391 [==============================] - 31s 80ms/step - loss: 1.5119 - accuracy: 0.5966\n",
            "Epoch 45/50\n",
            "391/391 [==============================] - 31s 80ms/step - loss: 1.4996 - accuracy: 0.5994\n",
            "Epoch 46/50\n",
            "391/391 [==============================] - 34s 87ms/step - loss: 1.4976 - accuracy: 0.6025\n",
            "Epoch 47/50\n",
            "391/391 [==============================] - 33s 83ms/step - loss: 1.4903 - accuracy: 0.6037\n",
            "Epoch 48/50\n",
            "391/391 [==============================] - 32s 81ms/step - loss: 1.4776 - accuracy: 0.6064\n",
            "Epoch 49/50\n",
            "391/391 [==============================] - 32s 81ms/step - loss: 1.4857 - accuracy: 0.6068\n",
            "Epoch 50/50\n",
            "391/391 [==============================] - 31s 80ms/step - loss: 1.4847 - accuracy: 0.6119\n",
            "313/313 [==============================] - 4s 11ms/step - loss: 8.2620 - accuracy: 0.2013\n",
            "0.2012999951839447\n",
            "8.26200008392334\n"
          ]
        }
      ]
    },
    {
      "cell_type": "code",
      "source": [
        "import numpy as np\n",
        "from PIL import Image\n",
        "\n",
        "#result = np.array(['airplane', 'auto', 'brid', 'cat', 'deer', 'dog', 'frog', 'house', 'ship', 'truck'])\n",
        "\n",
        "(train_images1, train_lables1),(test_images1, test_lables1) = cifar100.load_data()\n",
        "\n",
        "hinh_position = 200\n",
        "hinh = test_images1[hinh_position]\n",
        "#hinh = Image.open(\"test.jpg\")\n",
        "#print(hinh.size)\n",
        "hinh_lable = test_lables1[hinh_position]\n",
        "\n",
        "plt.imshow(hinh,cmap = 'gray')\n",
        "plt.show()\n",
        "\n",
        "#hinh = np.array(hinh)\n",
        "#print(hinh.shape)\n",
        "\n",
        "\n",
        "hinh = hinh.reshape((1, 32*32*3))\n",
        "hinh = hinh.astype('float32')/255\n",
        "\n",
        "\n",
        "#print(result[hinh_lable[0]])\n",
        "print(hinh_lable[0])\n",
        "\n",
        "\n",
        "y= model.predict(hinh)\n",
        "\n",
        "index_max = np.argmax(y[0,])\n",
        "\n",
        "print(index_max)\n",
        "#print(result[index_max])"
      ],
      "metadata": {
        "colab": {
          "base_uri": "https://localhost:8080/",
          "height": 482
        },
        "id": "AiQ4CKy8apJc",
        "outputId": "541d3f7b-d510-46a1-bc3e-bf6d292993c9"
      },
      "execution_count": null,
      "outputs": [
        {
          "output_type": "display_data",
          "data": {
            "text/plain": [
              "<Figure size 640x480 with 1 Axes>"
            ],
            "image/png": "[encoded data removed]"
          },
          "metadata": {}
        },
        {
          "output_type": "stream",
          "name": "stdout",
          "text": [
            "6\n",
            "1/1 [==============================] - 0s 38ms/step\n",
            "38\n"
          ]
        }
      ]
    },
    {
      "cell_type": "code",
      "source": [
        "from keras.models import load_model\n",
        "model.save('model.h5') \n",
        "#model = load_model('model.h5')"
      ],
      "metadata": {
        "id": "GX0N_QR2asWx"
      },
      "execution_count": null,
      "outputs": []
    }
  ]
}