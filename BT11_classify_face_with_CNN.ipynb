{
  "nbformat": 4,
  "nbformat_minor": 0,
  "metadata": {
    "colab": {
      "provenance": [],
      "mount_file_id": "1MoDtWJd_NjAS2Bm6KZapCsuE4TCzj5BL",
      "authorship_tag": "ABX9TyNHEk1j+UWLs7bOuaPVZ2dE",
      "include_colab_link": true
    },
    "kernelspec": {
      "name": "python3",
      "display_name": "Python 3"
    },
    "language_info": {
      "name": "python"
    }
  },
  "cells": [
    {
      "cell_type": "markdown",
      "metadata": {
        "id": "view-in-github",
        "colab_type": "text"
      },
      "source": [
        "<a href=\"https://colab.research.google.com/github/Quang-Trong-Tan-Loc/AI/blob/main/BT11_classify_face_with_CNN.ipynb\" target=\"_parent\"><img src=\"https://colab.research.google.com/assets/colab-badge.svg\" alt=\"Open In Colab\"/></a>"
      ]
    },
    {
      "cell_type": "code",
      "execution_count": 1,
      "metadata": {
        "colab": {
          "base_uri": "https://localhost:8080/"
        },
        "id": "MSIFABenHntw",
        "outputId": "3b06df7a-847c-4044-e06c-2952b008b1dc"
      },
      "outputs": [
        {
          "output_type": "stream",
          "name": "stdout",
          "text": [
            "Mounted at /content/drive\n"
          ]
        }
      ],
      "source": [
        "from google.colab import drive\n",
        "drive.mount('/content/drive')"
      ]
    },
    {
      "cell_type": "code",
      "source": [
        "\n",
        "from os import listdir\n",
        "from numpy import asarray\n",
        "from numpy import save\n",
        "import numpy as np\n",
        "import matplotlib.pyplot as plt\n",
        "from keras.utils import load_img, img_to_array\n",
        "from keras.utils import to_categorical"
      ],
      "metadata": {
        "id": "RTaJbimzHpyv"
      },
      "execution_count": 2,
      "outputs": []
    },
    {
      "cell_type": "code",
      "source": [
        "folder = '/content/drive/MyDrive/Data_CNN/Train/face'\n",
        "flower = ['Binh', 'Chi', 'Chuong', 'Huy', 'Phi', 'Phong', 'Thang', 'Tri', 'Tu', 'Tuan', 'Tung', 'Loc', 'Vinh' ]\n",
        "photos, lables = list(), list()\n",
        "for i in range (13):\n",
        "  filename = folder +'/'+ flower[i] + '/'\n",
        "  for file in listdir (filename):\n",
        "    photo = load_img (filename + file, target_size=(40,40))\n",
        "    photo = img_to_array(photo)\n",
        "    photos.append(photo)\n",
        "    lables.append(i)\n",
        "photos = asarray(photos)\n",
        "lables = asarray(lables)"
      ],
      "metadata": {
        "id": "UpXTpEd2KHhT"
      },
      "execution_count": 4,
      "outputs": []
    },
    {
      "cell_type": "code",
      "source": [
        "print(photos.shape)\n",
        "print(lables.shape)"
      ],
      "metadata": {
        "id": "2wXqZFZeBgzJ",
        "outputId": "ac96eebb-3327-4851-bed1-200f79b3a8bb",
        "colab": {
          "base_uri": "https://localhost:8080/"
        }
      },
      "execution_count": 9,
      "outputs": [
        {
          "output_type": "stream",
          "name": "stdout",
          "text": [
            "(648, 40, 40, 3)\n",
            "(648,)\n"
          ]
        }
      ]
    },
    {
      "cell_type": "code",
      "source": [
        "from keras.utils import to_categorical\n",
        "y = to_categorical(lables)\n",
        "print(y.shape)"
      ],
      "metadata": {
        "id": "bZ67pwQMBiy9",
        "outputId": "4617269f-4812-4741-cad6-d499ee31919e",
        "colab": {
          "base_uri": "https://localhost:8080/"
        }
      },
      "execution_count": 6,
      "outputs": [
        {
          "output_type": "stream",
          "name": "stdout",
          "text": [
            "(648, 13)\n"
          ]
        }
      ]
    },
    {
      "cell_type": "code",
      "source": [
        "X = photos.astype('float32')/255"
      ],
      "metadata": {
        "id": "a0Kaw5v7Bm_K"
      },
      "execution_count": 8,
      "outputs": []
    },
    {
      "cell_type": "code",
      "source": [
        "plt.imshow(X[50])\n",
        "print(y[50])"
      ],
      "metadata": {
        "id": "d9s-E_S1Bvm3",
        "outputId": "3c3a3c99-fa06-4e6f-c7ab-6272bbf23eb7",
        "colab": {
          "base_uri": "https://localhost:8080/",
          "height": 449
        }
      },
      "execution_count": 12,
      "outputs": [
        {
          "output_type": "stream",
          "name": "stdout",
          "text": [
            "[0. 1. 0. 0. 0. 0. 0. 0. 0. 0. 0. 0. 0.]\n"
          ]
        },
        {
          "output_type": "display_data",
          "data": {
            "text/plain": [
              "<Figure size 640x480 with 1 Axes>"
            ],
            "image/png": "[encoded data removed]"
          },
          "metadata": {}
        }
      ]
    },
    {
      "cell_type": "code",
      "source": [
        "from keras.models import Sequential, Model\n",
        "from keras.layers import Dense, Flatten, Dropout, Conv2D, MaxPooling2D, Normalization, Input\n",
        "from keras.optimizers import Adam #toc do hoc 0.01 with Adam\n",
        "from keras.losses import categorical_crossentropy"
      ],
      "metadata": {
        "id": "4r8xquiwB7CF"
      },
      "execution_count": 13,
      "outputs": []
    },
    {
      "cell_type": "code",
      "source": [
        "batch_size = 64\n",
        "epochs = 20\n",
        "classes = 13"
      ],
      "metadata": {
        "id": "mgJ5fsjHB_Sg"
      },
      "execution_count": 14,
      "outputs": []
    },
    {
      "cell_type": "code",
      "source": [
        "\n",
        "model = Sequential()\n",
        "model.add(Conv2D(32, kernel_size =(3,3), activation= 'linear', input_shape= (40,40,3), padding = 'same'))\n",
        "from keras.layers import LeakyReLU\n",
        "model.add(LeakyReLU(alpha = 0.1))\n",
        "model.add(MaxPooling2D((2,2), padding = 'same'))\n",
        "model.add(Conv2D(64,(3,3), activation = 'linear', padding = 'same'))\n",
        "model.add(LeakyReLU(alpha = 0.1))\n",
        "model.add(MaxPooling2D((2,2), padding = 'same'))\n",
        "model.add(Conv2D(128,(3,3), activation = 'linear', padding = 'same'))\n",
        "model.add(LeakyReLU(alpha = 0.1))\n",
        "\n",
        "model.add(Flatten())\n",
        "#-----------------------------------------------------------------------------------------------------------\n",
        "model.add(Dense(128, activation = 'linear'))\n",
        "model.add(LeakyReLU(alpha = 0.1))\n",
        "model.add(Dense(classes, activation = 'softmax'))\n",
        "model.compile(loss = categorical_crossentropy, optimizer = Adam(), metrics = ['accuracy'] )\n",
        "\n",
        "model.summary()"
      ],
      "metadata": {
        "id": "MANq1iP2CDFa",
        "outputId": "f649034d-b999-47e4-bbef-4d3e019bedbc",
        "colab": {
          "base_uri": "https://localhost:8080/"
        }
      },
      "execution_count": 15,
      "outputs": [
        {
          "output_type": "stream",
          "name": "stdout",
          "text": [
            "Model: \"sequential\"\n",
            "_________________________________________________________________\n",
            " Layer (type)                Output Shape              Param #   \n",
            "=================================================================\n",
            " conv2d (Conv2D)             (None, 40, 40, 32)        896       \n",
            "                                                                 \n",
            " leaky_re_lu (LeakyReLU)     (None, 40, 40, 32)        0         \n",
            "                                                                 \n",
            " max_pooling2d (MaxPooling2D  (None, 20, 20, 32)       0         \n",
            " )                                                               \n",
            "                                                                 \n",
            " conv2d_1 (Conv2D)           (None, 20, 20, 64)        18496     \n",
            "                                                                 \n",
            " leaky_re_lu_1 (LeakyReLU)   (None, 20, 20, 64)        0         \n",
            "                                                                 \n",
            " max_pooling2d_1 (MaxPooling  (None, 10, 10, 64)       0         \n",
            " 2D)                                                             \n",
            "                                                                 \n",
            " conv2d_2 (Conv2D)           (None, 10, 10, 128)       73856     \n",
            "                                                                 \n",
            " leaky_re_lu_2 (LeakyReLU)   (None, 10, 10, 128)       0         \n",
            "                                                                 \n",
            " flatten (Flatten)           (None, 12800)             0         \n",
            "                                                                 \n",
            " dense (Dense)               (None, 128)               1638528   \n",
            "                                                                 \n",
            " leaky_re_lu_3 (LeakyReLU)   (None, 128)               0         \n",
            "                                                                 \n",
            " dense_1 (Dense)             (None, 13)                1677      \n",
            "                                                                 \n",
            "=================================================================\n",
            "Total params: 1,733,453\n",
            "Trainable params: 1,733,453\n",
            "Non-trainable params: 0\n",
            "_________________________________________________________________\n"
          ]
        }
      ]
    },
    {
      "cell_type": "code",
      "source": [
        "train = model.fit(X, y, batch_size = batch_size, epochs = epochs, verbose = 1)"
      ],
      "metadata": {
        "id": "4CUJOzH1CHuD",
        "outputId": "1bfd8590-59de-4a51-a4d5-afc8096b7179",
        "colab": {
          "base_uri": "https://localhost:8080/"
        }
      },
      "execution_count": 16,
      "outputs": [
        {
          "output_type": "stream",
          "name": "stdout",
          "text": [
            "Epoch 1/20\n",
            "11/11 [==============================] - 6s 289ms/step - loss: 1.9380 - accuracy: 0.4846\n",
            "Epoch 2/20\n",
            "11/11 [==============================] - 3s 239ms/step - loss: 0.3636 - accuracy: 0.8966\n",
            "Epoch 3/20\n",
            "11/11 [==============================] - 3s 290ms/step - loss: 0.1186 - accuracy: 0.9630\n",
            "Epoch 4/20\n",
            "11/11 [==============================] - 6s 574ms/step - loss: 0.0614 - accuracy: 0.9815\n",
            "Epoch 5/20\n",
            "11/11 [==============================] - 5s 387ms/step - loss: 0.0231 - accuracy: 0.9892\n",
            "Epoch 6/20\n",
            "11/11 [==============================] - 4s 339ms/step - loss: 0.0246 - accuracy: 0.9907\n",
            "Epoch 7/20\n",
            "11/11 [==============================] - 3s 243ms/step - loss: 0.0078 - accuracy: 0.9985\n",
            "Epoch 8/20\n",
            "11/11 [==============================] - 6s 542ms/step - loss: 0.0030 - accuracy: 1.0000\n",
            "Epoch 9/20\n",
            "11/11 [==============================] - 5s 497ms/step - loss: 0.0019 - accuracy: 1.0000\n",
            "Epoch 10/20\n",
            "11/11 [==============================] - 6s 577ms/step - loss: 8.8989e-04 - accuracy: 1.0000\n",
            "Epoch 11/20\n",
            "11/11 [==============================] - 6s 493ms/step - loss: 0.0021 - accuracy: 1.0000\n",
            "Epoch 12/20\n",
            "11/11 [==============================] - 3s 237ms/step - loss: 0.0013 - accuracy: 1.0000\n",
            "Epoch 13/20\n",
            "11/11 [==============================] - 3s 280ms/step - loss: 0.0016 - accuracy: 1.0000\n",
            "Epoch 14/20\n",
            "11/11 [==============================] - 7s 666ms/step - loss: 7.8510e-04 - accuracy: 1.0000\n",
            "Epoch 15/20\n",
            "11/11 [==============================] - 3s 305ms/step - loss: 2.5281e-04 - accuracy: 1.0000\n",
            "Epoch 16/20\n",
            "11/11 [==============================] - 3s 235ms/step - loss: 2.1130e-04 - accuracy: 1.0000\n",
            "Epoch 17/20\n",
            "11/11 [==============================] - 3s 282ms/step - loss: 1.7955e-04 - accuracy: 1.0000\n",
            "Epoch 18/20\n",
            "11/11 [==============================] - 7s 662ms/step - loss: 1.5896e-04 - accuracy: 1.0000\n",
            "Epoch 19/20\n",
            "11/11 [==============================] - 3s 258ms/step - loss: 1.4551e-04 - accuracy: 1.0000\n",
            "Epoch 20/20\n",
            "11/11 [==============================] - 4s 349ms/step - loss: 1.3621e-04 - accuracy: 1.0000\n"
          ]
        }
      ]
    },
    {
      "cell_type": "code",
      "source": [
        "\n",
        "folder = '/content/drive/MyDrive/Data_CNN/Test/face'\n",
        "flower = ['Binh', 'Chi', 'Chuong', 'Huy', 'Phi', 'Phong', 'Thang', 'Tri', 'Tu', 'Tuan', 'Tung', 'Loc', 'Vinh' ]\n",
        "X_test, y_test = list(), list()\n",
        "for i in range (13):\n",
        "  filename = folder +'/'+ flower[i] + '/'\n",
        "  for file in listdir (filename):\n",
        "    photo = load_img (filename + file, target_size=(40,40))\n",
        "    photo = img_to_array(photo)\n",
        "    X_test.append(photo)\n",
        "    y_test.append(i)\n",
        "X_test = asarray(X_test)\n",
        "y_test = asarray(y_test)"
      ],
      "metadata": {
        "id": "ZppLnA9XCLDa"
      },
      "execution_count": 17,
      "outputs": []
    },
    {
      "cell_type": "code",
      "source": [
        "print(X_test.shape)\n",
        "print(y_test.shape)"
      ],
      "metadata": {
        "id": "Zns3naRcCWKL",
        "outputId": "5e328ee3-63dd-42a5-e283-d257a10d5816",
        "colab": {
          "base_uri": "https://localhost:8080/"
        }
      },
      "execution_count": 18,
      "outputs": [
        {
          "output_type": "stream",
          "name": "stdout",
          "text": [
            "(131, 40, 40, 3)\n",
            "(131,)\n"
          ]
        }
      ]
    },
    {
      "cell_type": "code",
      "source": [
        "\n",
        "from keras.utils import to_categorical\n",
        "y_test = to_categorical(y_test)\n",
        "X_test = X_test.astype('float32')/255"
      ],
      "metadata": {
        "id": "DKzWAESLCYH7"
      },
      "execution_count": 19,
      "outputs": []
    },
    {
      "cell_type": "code",
      "source": [
        "model.evaluate(X_test, y_test)"
      ],
      "metadata": {
        "id": "mHmN0qrxCaCH",
        "outputId": "9246bb39-6ba8-4cb3-d263-39cca40e85d0",
        "colab": {
          "base_uri": "https://localhost:8080/"
        }
      },
      "execution_count": 20,
      "outputs": [
        {
          "output_type": "stream",
          "name": "stdout",
          "text": [
            "5/5 [==============================] - 0s 31ms/step - loss: 0.1805 - accuracy: 0.9771\n"
          ]
        },
        {
          "output_type": "execute_result",
          "data": {
            "text/plain": [
              "[0.1804920881986618, 0.9770992398262024]"
            ]
          },
          "metadata": {},
          "execution_count": 20
        }
      ]
    },
    {
      "cell_type": "code",
      "source": [
        "n = 25\n",
        "plt.imshow(X_test[n])\n",
        "pred = model.predict(X_test[n].reshape((1,40,40,3)))\n",
        "print(flower[pred.argmax()])\n",
        "print(flower[y_test[n].argmax()])"
      ],
      "metadata": {
        "id": "BrU2el1oCcsj",
        "outputId": "529aa20e-2842-41a4-9b1d-d211f4426091",
        "colab": {
          "base_uri": "https://localhost:8080/",
          "height": 486
        }
      },
      "execution_count": 27,
      "outputs": [
        {
          "output_type": "stream",
          "name": "stdout",
          "text": [
            "1/1 [==============================] - 0s 48ms/step\n",
            "Chuong\n",
            "Chuong\n"
          ]
        },
        {
          "output_type": "display_data",
          "data": {
            "text/plain": [
              "<Figure size 640x480 with 1 Axes>"
            ],
            "image/png": "[encoded data removed]"
          },
          "metadata": {}
        }
      ]
    }
  ]
}