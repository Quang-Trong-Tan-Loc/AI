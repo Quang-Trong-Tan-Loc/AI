{
  "nbformat": 4,
  "nbformat_minor": 0,
  "metadata": {
    "colab": {
      "provenance": [],
      "authorship_tag": "ABX9TyOtHDVSp9ikamWbBv9utAwc",
      "include_colab_link": true
    },
    "kernelspec": {
      "name": "python3",
      "display_name": "Python 3"
    },
    "language_info": {
      "name": "python"
    }
  },
  "cells": [
    {
      "cell_type": "markdown",
      "metadata": {
        "id": "view-in-github",
        "colab_type": "text"
      },
      "source": [
        "<a href=\"https://colab.research.google.com/github/Quang-Trong-Tan-Loc/AI/blob/main/BT11_classify_tien_with_CNN.ipynb\" target=\"_parent\"><img src=\"https://colab.research.google.com/assets/colab-badge.svg\" alt=\"Open In Colab\"/></a>"
      ]
    },
    {
      "cell_type": "code",
      "execution_count": 1,
      "metadata": {
        "colab": {
          "base_uri": "https://localhost:8080/"
        },
        "id": "y00Tc7KqYoH_",
        "outputId": "644e02ca-56b7-434b-a132-aa224ff739fa"
      },
      "outputs": [
        {
          "output_type": "stream",
          "name": "stdout",
          "text": [
            "Mounted at /content/drive\n"
          ]
        }
      ],
      "source": [
        "from google.colab import drive\n",
        "drive.mount('/content/drive')"
      ]
    },
    {
      "cell_type": "code",
      "source": [
        "from os import listdir\n",
        "from numpy import asarray\n",
        "from numpy import save\n",
        "import numpy as np\n",
        "import matplotlib.pyplot as plt\n",
        "from keras.utils import load_img, img_to_array\n",
        "from keras.utils import to_categorical"
      ],
      "metadata": {
        "id": "ilgGVVlDZA9T"
      },
      "execution_count": 2,
      "outputs": []
    },
    {
      "cell_type": "code",
      "source": [
        "\n",
        "folder = '/content/drive/MyDrive/Data_CNN/Train/tien'\n",
        "tien = ['20nghin', '50nghin', '100nghin', '200nghin','500nghin']\n",
        "photos, lables = list(), list()\n",
        "for i in range (5):\n",
        "  filename = folder +'/'+ tien[i] + '/'\n",
        "  for file in listdir (filename):\n",
        "    photo = load_img (filename + file, target_size=(40,40))\n",
        "    photo = img_to_array(photo)\n",
        "    photos.append(photo)\n",
        "    lables.append(i)\n",
        "photos = asarray(photos)\n",
        "lables = asarray(lables)"
      ],
      "metadata": {
        "id": "HJ4EkcSrZCv0"
      },
      "execution_count": 4,
      "outputs": []
    },
    {
      "cell_type": "code",
      "source": [
        "print(photos.shape)\n",
        "print(lables.shape)"
      ],
      "metadata": {
        "colab": {
          "base_uri": "https://localhost:8080/"
        },
        "id": "f84GMzgyZlG_",
        "outputId": "daaaf24a-88a1-4006-c136-c6c1d3ce412e"
      },
      "execution_count": 5,
      "outputs": [
        {
          "output_type": "stream",
          "name": "stdout",
          "text": [
            "(652, 40, 40, 3)\n",
            "(652,)\n"
          ]
        }
      ]
    },
    {
      "cell_type": "code",
      "source": [
        "from keras.utils import to_categorical\n",
        "y = to_categorical(lables)\n",
        "print(y.shape)"
      ],
      "metadata": {
        "colab": {
          "base_uri": "https://localhost:8080/"
        },
        "id": "cYGIF6ZHZnwe",
        "outputId": "d1516c02-54c4-4fb5-f221-c2145142fdba"
      },
      "execution_count": 6,
      "outputs": [
        {
          "output_type": "stream",
          "name": "stdout",
          "text": [
            "(652, 5)\n"
          ]
        }
      ]
    },
    {
      "cell_type": "code",
      "source": [
        "X = photos.astype('float32')/255"
      ],
      "metadata": {
        "id": "9JuCC5PTZqy6"
      },
      "execution_count": 7,
      "outputs": []
    },
    {
      "cell_type": "code",
      "source": [
        "plt.imshow(X[501])\n",
        "print(y[501])"
      ],
      "metadata": {
        "colab": {
          "base_uri": "https://localhost:8080/",
          "height": 449
        },
        "id": "rQVVibLDZunR",
        "outputId": "534c16f2-8f1c-4536-86b3-4208d64876f6"
      },
      "execution_count": 9,
      "outputs": [
        {
          "output_type": "stream",
          "name": "stdout",
          "text": [
            "[0. 0. 0. 1. 0.]\n"
          ]
        },
        {
          "output_type": "display_data",
          "data": {
            "text/plain": [
              "<Figure size 640x480 with 1 Axes>"
            ],
            "image/png": "[encoded data removed]"
          },
          "metadata": {}
        }
      ]
    },
    {
      "cell_type": "code",
      "source": [
        "from keras.models import Sequential, Model\n",
        "from keras.layers import Dense, Flatten, Dropout, Conv2D, MaxPooling2D, Normalization, Input\n",
        "from keras.optimizers import Adam #toc do hoc 0.01 with Adam\n",
        "from keras.losses import categorical_crossentropy"
      ],
      "metadata": {
        "id": "a5whrQOfZwaw"
      },
      "execution_count": 10,
      "outputs": []
    },
    {
      "cell_type": "code",
      "source": [
        "batch_size = 64\n",
        "epochs = 20\n",
        "classes = 5"
      ],
      "metadata": {
        "id": "1G1e5U4cZzJc"
      },
      "execution_count": 11,
      "outputs": []
    },
    {
      "cell_type": "code",
      "source": [
        "model = Sequential()\n",
        "model.add(Conv2D(32, kernel_size =(3,3), activation= 'linear', input_shape= (40,40,3), padding = 'same'))\n",
        "from keras.layers import LeakyReLU\n",
        "model.add(LeakyReLU(alpha = 0.1))\n",
        "model.add(MaxPooling2D((2,2), padding = 'same'))\n",
        "model.add(Conv2D(64,(3,3), activation = 'linear', padding = 'same'))\n",
        "model.add(LeakyReLU(alpha = 0.1))\n",
        "model.add(MaxPooling2D((2,2), padding = 'same'))\n",
        "model.add(Conv2D(128,(3,3), activation = 'linear', padding = 'same'))\n",
        "model.add(LeakyReLU(alpha = 0.1))\n",
        "\n",
        "model.add(Flatten())\n",
        "#-----------------------------------------------------------------------------------------------------------\n",
        "model.add(Dense(128, activation = 'linear'))\n",
        "model.add(LeakyReLU(alpha = 0.1))\n",
        "model.add(Dense(classes, activation = 'softmax'))\n",
        "model.compile(loss = categorical_crossentropy, optimizer = Adam(), metrics = ['accuracy'] )\n",
        "\n",
        "model.summary()"
      ],
      "metadata": {
        "colab": {
          "base_uri": "https://localhost:8080/"
        },
        "id": "yZmimZryZ2aq",
        "outputId": "f301a3a6-06b6-46ec-ee0f-e7553d8af8bf"
      },
      "execution_count": 12,
      "outputs": [
        {
          "output_type": "stream",
          "name": "stdout",
          "text": [
            "Model: \"sequential\"\n",
            "_________________________________________________________________\n",
            " Layer (type)                Output Shape              Param #   \n",
            "=================================================================\n",
            " conv2d (Conv2D)             (None, 40, 40, 32)        896       \n",
            "                                                                 \n",
            " leaky_re_lu (LeakyReLU)     (None, 40, 40, 32)        0         \n",
            "                                                                 \n",
            " max_pooling2d (MaxPooling2D  (None, 20, 20, 32)       0         \n",
            " )                                                               \n",
            "                                                                 \n",
            " conv2d_1 (Conv2D)           (None, 20, 20, 64)        18496     \n",
            "                                                                 \n",
            " leaky_re_lu_1 (LeakyReLU)   (None, 20, 20, 64)        0         \n",
            "                                                                 \n",
            " max_pooling2d_1 (MaxPooling  (None, 10, 10, 64)       0         \n",
            " 2D)                                                             \n",
            "                                                                 \n",
            " conv2d_2 (Conv2D)           (None, 10, 10, 128)       73856     \n",
            "                                                                 \n",
            " leaky_re_lu_2 (LeakyReLU)   (None, 10, 10, 128)       0         \n",
            "                                                                 \n",
            " flatten (Flatten)           (None, 12800)             0         \n",
            "                                                                 \n",
            " dense (Dense)               (None, 128)               1638528   \n",
            "                                                                 \n",
            " leaky_re_lu_3 (LeakyReLU)   (None, 128)               0         \n",
            "                                                                 \n",
            " dense_1 (Dense)             (None, 5)                 645       \n",
            "                                                                 \n",
            "=================================================================\n",
            "Total params: 1,732,421\n",
            "Trainable params: 1,732,421\n",
            "Non-trainable params: 0\n",
            "_________________________________________________________________\n"
          ]
        }
      ]
    },
    {
      "cell_type": "code",
      "source": [
        "train = model.fit(X, y, batch_size = batch_size, epochs = epochs, verbose = 1)"
      ],
      "metadata": {
        "colab": {
          "base_uri": "https://localhost:8080/"
        },
        "id": "RTl0v16XZ437",
        "outputId": "5a56c409-082c-4d7e-af81-d6bfeff9076e"
      },
      "execution_count": 13,
      "outputs": [
        {
          "output_type": "stream",
          "name": "stdout",
          "text": [
            "Epoch 1/20\n",
            "11/11 [==============================] - 3s 219ms/step - loss: 1.6569 - accuracy: 0.2914\n",
            "Epoch 2/20\n",
            "11/11 [==============================] - 2s 215ms/step - loss: 1.2923 - accuracy: 0.4540\n",
            "Epoch 3/20\n",
            "11/11 [==============================] - 2s 217ms/step - loss: 0.9761 - accuracy: 0.6288\n",
            "Epoch 4/20\n",
            "11/11 [==============================] - 3s 324ms/step - loss: 0.7327 - accuracy: 0.7255\n",
            "Epoch 5/20\n",
            "11/11 [==============================] - 3s 286ms/step - loss: 0.6743 - accuracy: 0.7485\n",
            "Epoch 6/20\n",
            "11/11 [==============================] - 2s 215ms/step - loss: 0.5042 - accuracy: 0.8344\n",
            "Epoch 7/20\n",
            "11/11 [==============================] - 2s 218ms/step - loss: 0.4103 - accuracy: 0.8635\n",
            "Epoch 8/20\n",
            "11/11 [==============================] - 2s 223ms/step - loss: 0.3035 - accuracy: 0.9003\n",
            "Epoch 9/20\n",
            "11/11 [==============================] - 3s 292ms/step - loss: 0.2842 - accuracy: 0.9095\n",
            "Epoch 10/20\n",
            "11/11 [==============================] - 4s 320ms/step - loss: 0.1770 - accuracy: 0.9387\n",
            "Epoch 11/20\n",
            "11/11 [==============================] - 2s 214ms/step - loss: 0.1698 - accuracy: 0.9417\n",
            "Epoch 12/20\n",
            "11/11 [==============================] - 2s 218ms/step - loss: 0.2562 - accuracy: 0.9126\n",
            "Epoch 13/20\n",
            "11/11 [==============================] - 2s 218ms/step - loss: 0.1492 - accuracy: 0.9678\n",
            "Epoch 14/20\n",
            "11/11 [==============================] - 3s 269ms/step - loss: 0.1086 - accuracy: 0.9632\n",
            "Epoch 15/20\n",
            "11/11 [==============================] - 4s 354ms/step - loss: 0.0797 - accuracy: 0.9816\n",
            "Epoch 16/20\n",
            "11/11 [==============================] - 2s 215ms/step - loss: 0.0682 - accuracy: 0.9847\n",
            "Epoch 17/20\n",
            "11/11 [==============================] - 2s 215ms/step - loss: 0.0591 - accuracy: 0.9908\n",
            "Epoch 18/20\n",
            "11/11 [==============================] - 2s 214ms/step - loss: 0.0252 - accuracy: 1.0000\n",
            "Epoch 19/20\n",
            "11/11 [==============================] - 2s 224ms/step - loss: 0.0198 - accuracy: 0.9954\n",
            "Epoch 20/20\n",
            "11/11 [==============================] - 4s 400ms/step - loss: 0.0144 - accuracy: 1.0000\n"
          ]
        }
      ]
    },
    {
      "cell_type": "code",
      "source": [
        "folder = '/content/drive/MyDrive/Data_CNN/Test/tien'\n",
        "tien = ['20nghin', '50nghin', '100nghin', '200nghin','500nghin']\n",
        "X_test, y_test = list(), list()\n",
        "for i in range (5):\n",
        "  filename = folder +'/'+ tien[i] + '/'\n",
        "  for file in listdir (filename):\n",
        "    photo = load_img (filename + file, target_size=(40,40))\n",
        "    photo = img_to_array(photo)\n",
        "    X_test.append(photo)\n",
        "    y_test.append(i)\n",
        "X_test = asarray(X_test)\n",
        "y_test = asarray(y_test)"
      ],
      "metadata": {
        "id": "6QEcHyezZ6zj"
      },
      "execution_count": 14,
      "outputs": []
    },
    {
      "cell_type": "code",
      "source": [
        "print(X_test.shape)\n",
        "print(y_test.shape)"
      ],
      "metadata": {
        "colab": {
          "base_uri": "https://localhost:8080/"
        },
        "id": "f6MuSV3faOQB",
        "outputId": "e235dbf5-58c4-42bb-8034-9694f8d05647"
      },
      "execution_count": 15,
      "outputs": [
        {
          "output_type": "stream",
          "name": "stdout",
          "text": [
            "(100, 40, 40, 3)\n",
            "(100,)\n"
          ]
        }
      ]
    },
    {
      "cell_type": "code",
      "source": [
        "from keras.utils import to_categorical\n",
        "y_test = to_categorical(y_test)\n",
        "X_test = X_test.astype('float32')/255"
      ],
      "metadata": {
        "id": "GamUIS2laQ3M"
      },
      "execution_count": 16,
      "outputs": []
    },
    {
      "cell_type": "code",
      "source": [
        "model.evaluate(X_test, y_test)"
      ],
      "metadata": {
        "colab": {
          "base_uri": "https://localhost:8080/"
        },
        "id": "lHUmouVXaSqi",
        "outputId": "d3918ddd-a3ac-4d78-dc2b-580be10f62be"
      },
      "execution_count": 17,
      "outputs": [
        {
          "output_type": "stream",
          "name": "stdout",
          "text": [
            "4/4 [==============================] - 0s 27ms/step - loss: 0.8017 - accuracy: 0.9000\n"
          ]
        },
        {
          "output_type": "execute_result",
          "data": {
            "text/plain": [
              "[0.8017315864562988, 0.8999999761581421]"
            ]
          },
          "metadata": {},
          "execution_count": 17
        }
      ]
    },
    {
      "cell_type": "code",
      "source": [
        "n = 21\n",
        "plt.imshow(X_test[n])\n",
        "pred = model.predict(X_test[n].reshape((1,40,40,3)))\n",
        "print(tien[pred.argmax()])\n",
        "print(tien[y_test[n].argmax()])"
      ],
      "metadata": {
        "colab": {
          "base_uri": "https://localhost:8080/",
          "height": 486
        },
        "id": "TUsOzN2haU0y",
        "outputId": "bdfa196d-5b02-4f1c-dc36-dd6797722249"
      },
      "execution_count": 29,
      "outputs": [
        {
          "output_type": "stream",
          "name": "stdout",
          "text": [
            "1/1 [==============================] - 0s 57ms/step\n",
            "50nghin\n",
            "50nghin\n"
          ]
        },
        {
          "output_type": "display_data",
          "data": {
            "text/plain": [
              "<Figure size 640x480 with 1 Axes>"
            ],
            "image/png": "[encoded data removed]"
          },
          "metadata": {}
        }
      ]
    }
  ]
}