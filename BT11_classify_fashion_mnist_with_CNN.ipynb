{
  "nbformat": 4,
  "nbformat_minor": 0,
  "metadata": {
    "colab": {
      "provenance": [],
      "authorship_tag": "ABX9TyO4A05xOPS5nW+BdXYwwknP",
      "include_colab_link": true
    },
    "kernelspec": {
      "name": "python3",
      "display_name": "Python 3"
    },
    "language_info": {
      "name": "python"
    }
  },
  "cells": [
    {
      "cell_type": "markdown",
      "metadata": {
        "id": "view-in-github",
        "colab_type": "text"
      },
      "source": [
        "<a href=\"https://colab.research.google.com/github/Quang-Trong-Tan-Loc/AI/blob/main/BT11_fashion_mnist.ipynb\" target=\"_parent\"><img src=\"https://colab.research.google.com/assets/colab-badge.svg\" alt=\"Open In Colab\"/></a>"
      ]
    },
    {
      "cell_type": "code",
      "execution_count": 1,
      "metadata": {
        "colab": {
          "base_uri": "https://localhost:8080/"
        },
        "id": "oke2H8FB3BzU",
        "outputId": "e55a313c-c9a3-4d6e-cf0f-81a35ecca96b"
      },
      "outputs": [
        {
          "output_type": "stream",
          "name": "stdout",
          "text": [
            "Mounted at /content/drive\n"
          ]
        }
      ],
      "source": [
        "from google.colab import drive\n",
        "drive.mount('/content/drive')\n"
      ]
    },
    {
      "cell_type": "code",
      "source": [
        "from keras.datasets import fashion_mnist\n",
        "(x_train, y_train), (x_test, y_test) = fashion_mnist.load_data()\n",
        "print(x_train.shape)\n",
        "print(y_train.shape)"
      ],
      "metadata": {
        "colab": {
          "base_uri": "https://localhost:8080/"
        },
        "id": "eqpYlKhR3O3_",
        "outputId": "cdf513b8-e4dc-4ddf-f639-2e65dd56b15c"
      },
      "execution_count": 2,
      "outputs": [
        {
          "output_type": "stream",
          "name": "stdout",
          "text": [
            "Downloading data from https://storage.googleapis.com/tensorflow/tf-keras-datasets/train-labels-idx1-ubyte.gz\n",
            "29515/29515 [==============================] - 0s 0us/step\n",
            "Downloading data from https://storage.googleapis.com/tensorflow/tf-keras-datasets/train-images-idx3-ubyte.gz\n",
            "26421880/26421880 [==============================] - 0s 0us/step\n",
            "Downloading data from https://storage.googleapis.com/tensorflow/tf-keras-datasets/t10k-labels-idx1-ubyte.gz\n",
            "5148/5148 [==============================] - 0s 0us/step\n",
            "Downloading data from https://storage.googleapis.com/tensorflow/tf-keras-datasets/t10k-images-idx3-ubyte.gz\n",
            "4422102/4422102 [==============================] - 0s 0us/step\n",
            "(60000, 28, 28)\n",
            "(60000,)\n"
          ]
        }
      ]
    },
    {
      "cell_type": "code",
      "source": [
        "print(x_test.shape)\n",
        "print(y_test.shape)"
      ],
      "metadata": {
        "colab": {
          "base_uri": "https://localhost:8080/"
        },
        "id": "4hqktTk73xSn",
        "outputId": "4a6ccfd5-a6f2-499a-8ce4-60b28c8e3d6f"
      },
      "execution_count": 3,
      "outputs": [
        {
          "output_type": "stream",
          "name": "stdout",
          "text": [
            "(10000, 28, 28)\n",
            "(10000,)\n"
          ]
        }
      ]
    },
    {
      "cell_type": "code",
      "source": [
        "import matplotlib.pyplot as plt\n",
        "plt.figure(figsize = [10,10])\n",
        "\n",
        "plt.subplot(121)\n",
        "plt.imshow(x_train[0], cmap = 'gray')\n",
        "plt.title('So : {}'.format(y_train[0]))\n",
        "\n",
        "plt.subplot(122)\n",
        "plt.imshow(x_train[1], cmap = 'gray')\n",
        "plt.title('So : {}'.format(y_train[1]))\n",
        "\n",
        "plt.show()"
      ],
      "metadata": {
        "colab": {
          "base_uri": "https://localhost:8080/",
          "height": 435
        },
        "id": "gPKLGqSr33KJ",
        "outputId": "73896b28-6ebb-46c9-c18e-57b098768fb3"
      },
      "execution_count": 12,
      "outputs": [
        {
          "output_type": "display_data",
          "data": {
            "text/plain": [
              "<Figure size 1000x1000 with 2 Axes>"
            ],
            "image/png": "[encoded data removed]"
          },
          "metadata": {}
        }
      ]
    },
    {
      "cell_type": "code",
      "source": [
        "train_X = x_train.reshape(60000,28,28,1)\n",
        "test_X = x_test.reshape(10000,28,28,1)\n",
        "print(train_X.shape)\n",
        "print(test_X.shape)\n"
      ],
      "metadata": {
        "colab": {
          "base_uri": "https://localhost:8080/"
        },
        "id": "AqTN1rMA5k2K",
        "outputId": "7dd7bdec-1714-4891-fbf4-93b4c7c6ee40"
      },
      "execution_count": 13,
      "outputs": [
        {
          "output_type": "stream",
          "name": "stdout",
          "text": [
            "(60000, 28, 28, 1)\n",
            "(10000, 28, 28, 1)\n"
          ]
        }
      ]
    },
    {
      "cell_type": "code",
      "source": [
        "train_X = train_X.astype('float32')\n",
        "train_X = train_X / 255"
      ],
      "metadata": {
        "id": "2EwtjT5L6Ian"
      },
      "execution_count": 14,
      "outputs": []
    },
    {
      "cell_type": "code",
      "source": [
        "from keras.utils import to_categorical\n",
        "train_Y = to_categorical(y_train)\n",
        "test_Y = to_categorical(y_test)"
      ],
      "metadata": {
        "id": "vfZ2mOQQ6nr2"
      },
      "execution_count": 15,
      "outputs": []
    },
    {
      "cell_type": "code",
      "source": [
        "from keras.models import Sequential, Model\n",
        "from keras.layers import Dense, Flatten, Dropout, Conv2D, MaxPooling2D, Normalization, Input\n",
        "from keras.optimizers import Adam #toc do hoc 0.01 with Adam\n",
        "from keras.losses import categorical_crossentropy"
      ],
      "metadata": {
        "id": "UivI4joq7Qkt"
      },
      "execution_count": 40,
      "outputs": []
    },
    {
      "cell_type": "code",
      "source": [
        "batch_size = 64\n",
        "epochs = 20\n",
        "classes = 10"
      ],
      "metadata": {
        "id": "9Q-butY58qrB"
      },
      "execution_count": 22,
      "outputs": []
    },
    {
      "cell_type": "code",
      "source": [
        "model = Sequential()\n",
        "model.add(Conv2D(32, kernel_size =(3,3), activation= 'linear', input_shape= (28,28,1), padding = 'same'))\n",
        "from keras.layers import LeakyReLU\n",
        "model.add(LeakyReLU(alpha = 0.1))\n",
        "model.add(MaxPooling2D((2,2), padding = 'same'))\n",
        "model.add(Conv2D(64,(3,3), activation = 'linear', padding = 'same'))\n",
        "model.add(LeakyReLU(alpha = 0.1))\n",
        "model.add(MaxPooling2D((2,2), padding = 'same'))\n",
        "model.add(Conv2D(128,(3,3), activation = 'linear', padding = 'same'))\n",
        "model.add(LeakyReLU(alpha = 0.1))\n",
        "\n",
        "model.add(Flatten())\n",
        "#-----------------------------------------------------------------------------------------------------------\n",
        "model.add(Dense(128, activation = 'linear'))\n",
        "model.add(LeakyReLU(alpha = 0.1))\n",
        "model.add(Dense(classes, activation = 'softmax'))\n",
        "model.compile(loss = categorical_crossentropy, optimizer = Adam(), metrics = ['accuracy'] )\n",
        "\n",
        "model.summary()\n"
      ],
      "metadata": {
        "colab": {
          "base_uri": "https://localhost:8080/"
        },
        "id": "A4KVRdFY9E8U",
        "outputId": "af4546ca-e74e-46e4-9f09-97edf18d21c5"
      },
      "execution_count": 42,
      "outputs": [
        {
          "output_type": "stream",
          "name": "stdout",
          "text": [
            "Model: \"sequential_10\"\n",
            "_________________________________________________________________\n",
            " Layer (type)                Output Shape              Param #   \n",
            "=================================================================\n",
            " conv2d_21 (Conv2D)          (None, 28, 28, 32)        320       \n",
            "                                                                 \n",
            " leaky_re_lu_18 (LeakyReLU)  (None, 28, 28, 32)        0         \n",
            "                                                                 \n",
            " max_pooling2d_8 (MaxPooling  (None, 14, 14, 32)       0         \n",
            " 2D)                                                             \n",
            "                                                                 \n",
            " conv2d_22 (Conv2D)          (None, 14, 14, 64)        18496     \n",
            "                                                                 \n",
            " leaky_re_lu_19 (LeakyReLU)  (None, 14, 14, 64)        0         \n",
            "                                                                 \n",
            " max_pooling2d_9 (MaxPooling  (None, 7, 7, 64)         0         \n",
            " 2D)                                                             \n",
            "                                                                 \n",
            " conv2d_23 (Conv2D)          (None, 7, 7, 128)         73856     \n",
            "                                                                 \n",
            " leaky_re_lu_20 (LeakyReLU)  (None, 7, 7, 128)         0         \n",
            "                                                                 \n",
            " flatten_4 (Flatten)         (None, 6272)              0         \n",
            "                                                                 \n",
            " dense_2 (Dense)             (None, 128)               802944    \n",
            "                                                                 \n",
            " leaky_re_lu_21 (LeakyReLU)  (None, 128)               0         \n",
            "                                                                 \n",
            " dense_3 (Dense)             (None, 10)                1290      \n",
            "                                                                 \n",
            "=================================================================\n",
            "Total params: 896,906\n",
            "Trainable params: 896,906\n",
            "Non-trainable params: 0\n",
            "_________________________________________________________________\n"
          ]
        }
      ]
    },
    {
      "cell_type": "code",
      "source": [
        "train = model.fit(train_X, train_Y, batch_size = batch_size, epochs = epochs, verbose = 1)"
      ],
      "metadata": {
        "colab": {
          "base_uri": "https://localhost:8080/"
        },
        "id": "Zxb6OSC7B9po",
        "outputId": "d0310772-8be8-482a-f3f6-8217dec052d9"
      },
      "execution_count": 43,
      "outputs": [
        {
          "output_type": "stream",
          "name": "stdout",
          "text": [
            "Epoch 1/20\n",
            "938/938 [==============================] - 137s 145ms/step - loss: 0.4005 - accuracy: 0.8548\n",
            "Epoch 2/20\n",
            "938/938 [==============================] - 134s 143ms/step - loss: 0.2553 - accuracy: 0.9060\n",
            "Epoch 3/20\n",
            "938/938 [==============================] - 135s 144ms/step - loss: 0.2129 - accuracy: 0.9209\n",
            "Epoch 4/20\n",
            "938/938 [==============================] - 129s 138ms/step - loss: 0.1825 - accuracy: 0.9321\n",
            "Epoch 5/20\n",
            "938/938 [==============================] - 130s 138ms/step - loss: 0.1585 - accuracy: 0.9415\n",
            "Epoch 6/20\n",
            "938/938 [==============================] - 131s 139ms/step - loss: 0.1343 - accuracy: 0.9494\n",
            "Epoch 7/20\n",
            "938/938 [==============================] - 137s 146ms/step - loss: 0.1120 - accuracy: 0.9589\n",
            "Epoch 8/20\n",
            "938/938 [==============================] - 135s 144ms/step - loss: 0.0965 - accuracy: 0.9634\n",
            "Epoch 9/20\n",
            "938/938 [==============================] - 141s 150ms/step - loss: 0.0779 - accuracy: 0.9710\n",
            "Epoch 10/20\n",
            "938/938 [==============================] - 130s 139ms/step - loss: 0.0694 - accuracy: 0.9736\n",
            "Epoch 11/20\n",
            "938/938 [==============================] - 130s 139ms/step - loss: 0.0581 - accuracy: 0.9777\n",
            "Epoch 12/20\n",
            "938/938 [==============================] - 129s 137ms/step - loss: 0.0505 - accuracy: 0.9803\n",
            "Epoch 13/20\n",
            "938/938 [==============================] - 130s 138ms/step - loss: 0.0475 - accuracy: 0.9823\n",
            "Epoch 14/20\n",
            "938/938 [==============================] - 130s 139ms/step - loss: 0.0428 - accuracy: 0.9839\n",
            "Epoch 15/20\n",
            "938/938 [==============================] - 128s 137ms/step - loss: 0.0341 - accuracy: 0.9875\n",
            "Epoch 16/20\n",
            "938/938 [==============================] - 130s 138ms/step - loss: 0.0355 - accuracy: 0.9869\n",
            "Epoch 17/20\n",
            "938/938 [==============================] - 130s 139ms/step - loss: 0.0314 - accuracy: 0.9881\n",
            "Epoch 18/20\n",
            "938/938 [==============================] - 128s 136ms/step - loss: 0.0349 - accuracy: 0.9873\n",
            "Epoch 19/20\n",
            "938/938 [==============================] - 130s 139ms/step - loss: 0.0280 - accuracy: 0.9901\n",
            "Epoch 20/20\n",
            "938/938 [==============================] - 130s 139ms/step - loss: 0.0249 - accuracy: 0.9913\n"
          ]
        }
      ]
    },
    {
      "cell_type": "code",
      "source": [
        "model.save('/content/drive/MyDrive/save_model/modelfashionmnist.h5')"
      ],
      "metadata": {
        "id": "ZFfkzmqjGj8m"
      },
      "execution_count": 46,
      "outputs": []
    },
    {
      "cell_type": "code",
      "source": [
        "#from keras.models import load_model\n",
        "\n",
        "#model100=load_model('/content/drive/MyDrive/colab/model_fashion.h5')"
      ],
      "metadata": {
        "id": "TeuGU6m0B8Ve"
      },
      "execution_count": null,
      "outputs": []
    },
    {
      "cell_type": "code",
      "source": [
        "eval = model.evaluate(test_X, test_Y, verbose = 0)\n",
        "print('Test loss: ', eval[0])\n",
        "print('Test accuaracy: ', eval[1])\n",
        "accuracy = train.history['accuracy']\n",
        "loss = train.history['loss']\n",
        "epochs = range(len(accuracy))\n",
        "plt.plot(epochs, accuracy, 'bo')\n",
        "plt.plot(epochs, loss, 'b')\n",
        "plt.title('Training & Test Accuracy')\n"
      ],
      "metadata": {
        "colab": {
          "base_uri": "https://localhost:8080/",
          "height": 507
        },
        "id": "Sb0y7om7PMUu",
        "outputId": "22dd6b3f-4340-4558-859d-2b079c187f6b"
      },
      "execution_count": 51,
      "outputs": [
        {
          "output_type": "stream",
          "name": "stdout",
          "text": [
            "Test loss:  125.56334686279297\n",
            "Test accuaracy:  0.8844000101089478\n"
          ]
        },
        {
          "output_type": "execute_result",
          "data": {
            "text/plain": [
              "Text(0.5, 1.0, 'Training & Test Accuracy')"
            ]
          },
          "metadata": {},
          "execution_count": 51
        },
        {
          "output_type": "display_data",
          "data": {
            "text/plain": [
              "<Figure size 640x480 with 1 Axes>"
            ],
            "image/png": "[encoded data removed]"
          },
          "metadata": {}
        }
      ]
    },
    {
      "cell_type": "code",
      "source": [],
      "metadata": {
        "id": "0UvuT4PaSPtE"
      },
      "execution_count": null,
      "outputs": []
    }
  ]
}
